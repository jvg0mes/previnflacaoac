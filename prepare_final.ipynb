{
 "cells": [
  {
   "cell_type": "code",
   "execution_count": 25,
   "metadata": {},
   "outputs": [],
   "source": [
    "import pandas as pd\n",
    "import numpy as np"
   ]
  },
  {
   "cell_type": "code",
   "execution_count": 26,
   "metadata": {},
   "outputs": [],
   "source": [
    "features = pd.concat([pd.read_csv('final_data/bcbframe.csv',sep=';',index_col='Date'),\n",
    "                      pd.read_csv('final_data/yfframe.csv',sep=';',index_col='Date'),\n",
    "                      pd.read_csv('final_data/ipeaframe.csv',sep=';',index_col='DATE')],axis=1)"
   ]
  },
  {
   "cell_type": "code",
   "execution_count": 27,
   "metadata": {},
   "outputs": [],
   "source": [
    "target = pd.read_csv('data/target.csv',sep=';',index_col='DATE')"
   ]
  },
  {
   "cell_type": "code",
   "execution_count": 28,
   "metadata": {},
   "outputs": [],
   "source": [
    "#defasando variavel mais 3 periodos  para previsão com 3 meses de antecedencia\n",
    "features = features.shift(3).dropna()"
   ]
  },
  {
   "cell_type": "code",
   "execution_count": 29,
   "metadata": {},
   "outputs": [],
   "source": [
    "target = target[np.isin(target.index,features.index)]"
   ]
  },
  {
   "cell_type": "code",
   "execution_count": 30,
   "metadata": {},
   "outputs": [
    {
     "data": {
      "text/plain": [
       "<AxesSubplot:xlabel='DATE'>"
      ]
     },
     "execution_count": 30,
     "metadata": {},
     "output_type": "execute_result"
    },
    {
     "data": {
      "image/png": "[encoded data removed]",
      "text/plain": [
       "<Figure size 432x288 with 1 Axes>"
      ]
     },
     "metadata": {
      "needs_background": "light"
     },
     "output_type": "display_data"
    }
   ],
   "source": [
    "target.plot()"
   ]
  },
  {
   "cell_type": "code",
   "execution_count": 31,
   "metadata": {},
   "outputs": [
    {
     "name": "stdout",
     "output_type": "stream",
     "text": [
      "<class 'pandas.core.frame.DataFrame'>\n",
      "Index: 89 entries, 2015-02-01 to 2020-01-01\n",
      "Columns: 25606 entries, 188 to CNI12_ICEIGER12_e2_sma3_sma6_sma12_o1\n",
      "dtypes: float64(25606)\n",
      "memory usage: 17.4+ MB\n"
     ]
    }
   ],
   "source": [
    "features.info()"
   ]
  },
  {
   "cell_type": "code",
   "execution_count": 32,
   "metadata": {},
   "outputs": [
    {
     "data": {
      "text/plain": [
       "0"
      ]
     },
     "execution_count": 32,
     "metadata": {},
     "output_type": "execute_result"
    }
   ],
   "source": [
    "features.isnull().sum().sum()"
   ]
  },
  {
   "cell_type": "code",
   "execution_count": 33,
   "metadata": {},
   "outputs": [
    {
     "data": {
      "text/plain": [
       "188                                      0\n",
       "4473_sma3_sma12_o1                       0\n",
       "4472_sma3_sma12_o1                       0\n",
       "4471_sma3_sma12_o1                       0\n",
       "4469_sma3_sma12_o1                       0\n",
       "                                        ..\n",
       "29027_e2_o1                              0\n",
       "29026_e2_o1                              0\n",
       "29025_e2_o1                              0\n",
       "272_sma3_o1                              0\n",
       "CNI12_ICEIGER12_e2_sma3_sma6_sma12_o1    0\n",
       "Length: 25606, dtype: int64"
      ]
     },
     "execution_count": 33,
     "metadata": {},
     "output_type": "execute_result"
    }
   ],
   "source": [
    "features.isna().sum().sort_values()"
   ]
  },
  {
   "cell_type": "code",
   "execution_count": 34,
   "metadata": {},
   "outputs": [],
   "source": [
    "features = features.fillna(features.median())"
   ]
  },
  {
   "cell_type": "code",
   "execution_count": 35,
   "metadata": {},
   "outputs": [],
   "source": [
    "features = features[(features.isna().sum(axis=0)<4).replace({False:np.NaN}).dropna().index]"
   ]
  },
  {
   "cell_type": "code",
   "execution_count": 36,
   "metadata": {},
   "outputs": [
    {
     "name": "stdout",
     "output_type": "stream",
     "text": [
      "Features\n",
      "--------\n",
      "Linhas: 89\n",
      "Colunas: 25606\n",
      "Registros: 2278934\n"
     ]
    }
   ],
   "source": [
    "print(f\"Features\\n--------\\nLinhas: \" + \n",
    "      str(len(features)) + \"\\nColunas: \" + \n",
    "      str(len(features.columns)) + \n",
    "      \"\\nRegistros: \" + \n",
    "      str(len(features)*len(features.columns)))"
   ]
  },
  {
   "cell_type": "code",
   "execution_count": 37,
   "metadata": {},
   "outputs": [],
   "source": [
    "corframe = pd.concat([target,features],axis=1).corr()"
   ]
  },
  {
   "cell_type": "code",
   "execution_count": 38,
   "metadata": {},
   "outputs": [],
   "source": [
    "ycor = corframe.iloc[1:,0:1]"
   ]
  },
  {
   "cell_type": "code",
   "execution_count": 39,
   "metadata": {},
   "outputs": [
    {
     "data": {
      "text/html": [
       "<div>\n",
       "<style scoped>\n",
       "    .dataframe tbody tr th:only-of-type {\n",
       "        vertical-align: middle;\n",
       "    }\n",
       "\n",
       "    .dataframe tbody tr th {\n",
       "        vertical-align: top;\n",
       "    }\n",
       "\n",
       "    .dataframe thead th {\n",
       "        text-align: right;\n",
       "    }\n",
       "</style>\n",
       "<table border=\"1\" class=\"dataframe\">\n",
       "  <thead>\n",
       "    <tr style=\"text-align: right;\">\n",
       "      <th></th>\n",
       "      <th>VAR_3</th>\n",
       "    </tr>\n",
       "  </thead>\n",
       "  <tbody>\n",
       "    <tr>\n",
       "      <th>5002_e2_sma6_sma12</th>\n",
       "      <td>0.747942</td>\n",
       "    </tr>\n",
       "    <tr>\n",
       "      <th>256_sma3_sma12</th>\n",
       "      <td>0.738623</td>\n",
       "    </tr>\n",
       "    <tr>\n",
       "      <th>256_sma3_sma6_sma12</th>\n",
       "      <td>0.738265</td>\n",
       "    </tr>\n",
       "    <tr>\n",
       "      <th>256_e2_sma3_sma6_sma12</th>\n",
       "      <td>0.733589</td>\n",
       "    </tr>\n",
       "    <tr>\n",
       "      <th>256_e2_sma3_sma12</th>\n",
       "      <td>0.732845</td>\n",
       "    </tr>\n",
       "    <tr>\n",
       "      <th>...</th>\n",
       "      <td>...</td>\n",
       "    </tr>\n",
       "    <tr>\n",
       "      <th>1564_sma3_sma6_sma12_o1</th>\n",
       "      <td>0.000009</td>\n",
       "    </tr>\n",
       "    <tr>\n",
       "      <th>5737_sma3_sma12</th>\n",
       "      <td>NaN</td>\n",
       "    </tr>\n",
       "    <tr>\n",
       "      <th>5737_e2_sma3_sma12</th>\n",
       "      <td>NaN</td>\n",
       "    </tr>\n",
       "    <tr>\n",
       "      <th>5460_sma6_sma12</th>\n",
       "      <td>NaN</td>\n",
       "    </tr>\n",
       "    <tr>\n",
       "      <th>5460_e2_sma6_sma12</th>\n",
       "      <td>NaN</td>\n",
       "    </tr>\n",
       "  </tbody>\n",
       "</table>\n",
       "<p>25606 rows × 1 columns</p>\n",
       "</div>"
      ],
      "text/plain": [
       "                            VAR_3\n",
       "5002_e2_sma6_sma12       0.747942\n",
       "256_sma3_sma12           0.738623\n",
       "256_sma3_sma6_sma12      0.738265\n",
       "256_e2_sma3_sma6_sma12   0.733589\n",
       "256_e2_sma3_sma12        0.732845\n",
       "...                           ...\n",
       "1564_sma3_sma6_sma12_o1  0.000009\n",
       "5737_sma3_sma12               NaN\n",
       "5737_e2_sma3_sma12            NaN\n",
       "5460_sma6_sma12               NaN\n",
       "5460_e2_sma6_sma12            NaN\n",
       "\n",
       "[25606 rows x 1 columns]"
      ]
     },
     "execution_count": 39,
     "metadata": {},
     "output_type": "execute_result"
    }
   ],
   "source": [
    "ycor.abs().sort_values('VAR_3',ascending=False)"
   ]
  },
  {
   "cell_type": "code",
   "execution_count": 40,
   "metadata": {},
   "outputs": [
    {
     "data": {
      "text/plain": [
       "VAR_3    883\n",
       "dtype: int64"
      ]
     },
     "execution_count": 40,
     "metadata": {},
     "output_type": "execute_result"
    }
   ],
   "source": [
    "(ycor.abs().sort_values('VAR_3',ascending=False)>=.4).sum()"
   ]
  },
  {
   "cell_type": "code",
   "execution_count": 41,
   "metadata": {},
   "outputs": [],
   "source": [
    "final_features = (ycor.abs().sort_values('VAR_3',ascending=False)>=.4).replace({False:np.NaN}).dropna().index #60% 44 mae"
   ]
  },
  {
   "cell_type": "code",
   "execution_count": 42,
   "metadata": {},
   "outputs": [
    {
     "name": "stdout",
     "output_type": "stream",
     "text": [
      "Features\n",
      "--------\n",
      "Linhas: 89\n",
      "Colunas: 883\n",
      "Registros: 78587\n"
     ]
    }
   ],
   "source": [
    "print(f\"Features\\n--------\\nLinhas: \" + \n",
    "      str(len(features[final_features])) + \"\\nColunas: \" + \n",
    "      str(len(features[final_features].columns)) + \n",
    "      \"\\nRegistros: \" + \n",
    "      str(len(features[final_features])*len(features[final_features].columns)))"
   ]
  },
  {
   "cell_type": "code",
   "execution_count": 43,
   "metadata": {},
   "outputs": [],
   "source": [
    "target.columns = ['target']"
   ]
  },
  {
   "cell_type": "code",
   "execution_count": 44,
   "metadata": {},
   "outputs": [],
   "source": [
    "features = features[final_features]"
   ]
  },
  {
   "cell_type": "code",
   "execution_count": 45,
   "metadata": {},
   "outputs": [],
   "source": [
    "target.index.rename(None,inplace=True)"
   ]
  },
  {
   "cell_type": "code",
   "execution_count": 46,
   "metadata": {},
   "outputs": [],
   "source": [
    "frame = pd.concat([features,target],axis=1)"
   ]
  },
  {
   "cell_type": "code",
   "execution_count": 47,
   "metadata": {},
   "outputs": [
    {
     "data": {
      "text/plain": [
       "2016    12\n",
       "2017    12\n",
       "2018    12\n",
       "2019    12\n",
       "2020    12\n",
       "2015    11\n",
       "2021    11\n",
       "2022     6\n",
       "2014     1\n",
       "dtype: int64"
      ]
     },
     "execution_count": 47,
     "metadata": {},
     "output_type": "execute_result"
    }
   ],
   "source": [
    "pd.Series(frame.index).apply(lambda x: x[0:4]).value_counts()"
   ]
  },
  {
   "cell_type": "code",
   "execution_count": 48,
   "metadata": {},
   "outputs": [],
   "source": [
    "frame = frame.sort_index()"
   ]
  },
  {
   "cell_type": "code",
   "execution_count": 49,
   "metadata": {},
   "outputs": [],
   "source": [
    "frame.to_csv('final_data/finalframe.csv',sep=';')"
   ]
  },
  {
   "cell_type": "code",
   "execution_count": null,
   "metadata": {},
   "outputs": [],
   "source": []
  }
 ],
 "metadata": {
  "kernelspec": {
   "display_name": "Python 3.8.10 64-bit",
   "language": "python",
   "name": "python3"
  },
  "language_info": {
   "codemirror_mode": {
    "name": "ipython",
    "version": 3
   },
   "file_extension": ".py",
   "mimetype": "text/x-python",
   "name": "python",
   "nbconvert_exporter": "python",
   "pygments_lexer": "ipython3",
   "version": "3.8.10"
  },
  "orig_nbformat": 4,
  "vscode": {
   "interpreter": {
    "hash": "916dbcbb3f70747c44a77c7bcd40155683ae19c65e1c03b4aa3499c5328201f1"
   }
  }
 },
 "nbformat": 4,
 "nbformat_minor": 2
}
