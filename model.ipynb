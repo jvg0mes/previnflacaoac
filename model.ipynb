{
 "cells": [
  {
   "cell_type": "code",
   "execution_count": 1,
   "metadata": {},
   "outputs": [],
   "source": [
    "import pandas as pd\n",
    "import numpy as np\n",
    "frame = pd.read_csv('final_data/finalframe.csv',sep=';',index_col=[0])"
   ]
  },
  {
   "cell_type": "code",
   "execution_count": 5,
   "metadata": {},
   "outputs": [
    {
     "data": {
      "text/plain": [
       "array([False, False, False, False, False, False, False, False, False,\n",
       "       False, False, False, False, False, False, False, False, False,\n",
       "       False, False, False, False, False, False, False, False, False,\n",
       "       False, False, False, False, False, False, False, False, False,\n",
       "       False, False, False, False, False, False, False, False, False,\n",
       "       False, False, False, False, False, False, False, False, False,\n",
       "       False, False, False, False, False, False, False, False, False,\n",
       "       False, False, False, False, False, False, False, False, False,\n",
       "       False, False, False, False, False, False, False, False, False,\n",
       "       False, False, False, False, False, False, False, False])"
      ]
     },
     "execution_count": 5,
     "metadata": {},
     "output_type": "execute_result"
    }
   ],
   "source": [
    "np.isin(frame.index,[pd.to_datetime(x) for x in ('2020-05-01',\n",
    "'2020-06-01',\n",
    "'2015-03-01')])"
   ]
  },
  {
   "cell_type": "code",
   "execution_count": 500,
   "metadata": {},
   "outputs": [],
   "source": [
    "X = frame.iloc[:,0:len(frame.columns)-1]"
   ]
  },
  {
   "cell_type": "code",
   "execution_count": 501,
   "metadata": {},
   "outputs": [],
   "source": [
    "y = frame.iloc[:,len(frame.columns)-1]"
   ]
  },
  {
   "cell_type": "code",
   "execution_count": 502,
   "metadata": {},
   "outputs": [],
   "source": [
    "from sklearn.preprocessing import RobustScaler\n",
    "scaler = RobustScaler()\n",
    "scaler.fit(X)\n",
    "X = scaler.transform(X)\n",
    "X = pd.DataFrame(X)\n",
    "X.columns = scaler.get_feature_names_out()"
   ]
  },
  {
   "cell_type": "code",
   "execution_count": 503,
   "metadata": {},
   "outputs": [],
   "source": [
    "from sklearn.model_selection import train_test_split"
   ]
  },
  {
   "cell_type": "code",
   "execution_count": 504,
   "metadata": {},
   "outputs": [],
   "source": [
    "X_train,X_test,y_train,y_test = train_test_split(X,y,random_state=0,test_size=.2)"
   ]
  },
  {
   "cell_type": "code",
   "execution_count": 505,
   "metadata": {},
   "outputs": [],
   "source": [
    "from sklearn.linear_model import ElasticNet"
   ]
  },
  {
   "cell_type": "code",
   "execution_count": 506,
   "metadata": {},
   "outputs": [],
   "source": [
    "from sklearn.metrics import mean_absolute_error as mae\n",
    "from sklearn.metrics import mean_absolute_percentage_error as mape"
   ]
  },
  {
   "cell_type": "code",
   "execution_count": 390,
   "metadata": {},
   "outputs": [],
   "source": [
    "model =ElasticNet(max_iter=100000,alpha=.01)"
   ]
  },
  {
   "cell_type": "code",
   "execution_count": 391,
   "metadata": {},
   "outputs": [],
   "source": [
    "model = model.fit(X_train,y_train)"
   ]
  },
  {
   "cell_type": "code",
   "execution_count": 392,
   "metadata": {},
   "outputs": [
    {
     "data": {
      "text/plain": [
       "array([ 3.62256027,  2.98460394,  0.88186734,  1.60128411,  0.53388654,\n",
       "        0.44832434,  0.8209542 ,  1.31495408,  2.21866595,  1.92555893,\n",
       "        1.61150998,  0.8219636 ,  0.74488109, -0.09923681,  0.93922783,\n",
       "        1.85247398,  0.73246729,  0.3228601 ])"
      ]
     },
     "execution_count": 392,
     "metadata": {},
     "output_type": "execute_result"
    }
   ],
   "source": [
    "model.predict(X_test)"
   ]
  },
  {
   "cell_type": "code",
   "execution_count": 393,
   "metadata": {},
   "outputs": [
    {
     "data": {
      "text/plain": [
       "array([3.8277182 , 3.16215214, 0.71077186, 1.88872843, 0.23856367,\n",
       "       0.31956491, 0.84131742, 1.50290363, 2.37805685, 0.45543704,\n",
       "       1.63798344, 0.96300019, 0.77169701, 0.0091908 , 1.38572148,\n",
       "       1.83068405, 0.8624281 , 0.26024736])"
      ]
     },
     "execution_count": 393,
     "metadata": {},
     "output_type": "execute_result"
    }
   ],
   "source": [
    "y_test.to_numpy()"
   ]
  },
  {
   "cell_type": "code",
   "execution_count": 394,
   "metadata": {},
   "outputs": [
    {
     "data": {
      "text/plain": [
       "0.06823292613257609"
      ]
     },
     "execution_count": 394,
     "metadata": {},
     "output_type": "execute_result"
    }
   ],
   "source": [
    "mae(y_train,model.predict(X_train))"
   ]
  },
  {
   "cell_type": "code",
   "execution_count": 395,
   "metadata": {},
   "outputs": [
    {
     "data": {
      "text/plain": [
       "0.22593136121113144"
      ]
     },
     "execution_count": 395,
     "metadata": {},
     "output_type": "execute_result"
    }
   ],
   "source": [
    "mae(y_test,model.predict(X_test))"
   ]
  },
  {
   "cell_type": "code",
   "execution_count": 396,
   "metadata": {},
   "outputs": [
    {
     "data": {
      "text/plain": [
       "1.017105009381836"
      ]
     },
     "execution_count": 396,
     "metadata": {},
     "output_type": "execute_result"
    }
   ],
   "source": [
    "mape(y_test,model.predict(X_test))"
   ]
  },
  {
   "cell_type": "code",
   "execution_count": 397,
   "metadata": {},
   "outputs": [
    {
     "data": {
      "text/plain": [
       "2015-03-01    3.827718\n",
       "2016-02-01    3.162152\n",
       "2019-06-01    0.710772\n",
       "2018-06-01    1.888728\n",
       "2020-07-01    0.238564\n",
       "2017-07-01    0.319565\n",
       "2018-10-01    0.841317\n",
       "2018-08-01    1.502904\n",
       "2021-08-01    2.378057\n",
       "2022-07-01    0.455437\n",
       "2015-08-01    1.637983\n",
       "2017-03-01    0.963000\n",
       "2017-10-01    0.771697\n",
       "2020-04-01    0.009191\n",
       "2015-09-01    1.385721\n",
       "2016-05-01    1.830684\n",
       "2017-01-01    0.862428\n",
       "2019-09-01    0.260247\n",
       "Name: target, dtype: float64"
      ]
     },
     "execution_count": 397,
     "metadata": {},
     "output_type": "execute_result"
    }
   ],
   "source": [
    "y_test"
   ]
  },
  {
   "cell_type": "code",
   "execution_count": 398,
   "metadata": {},
   "outputs": [],
   "source": [
    "coefs = pd.DataFrame(zip(np.array(X_train.columns),model.coef_),columns=['Variable','Coef'])"
   ]
  },
  {
   "cell_type": "code",
   "execution_count": 399,
   "metadata": {},
   "outputs": [
    {
     "data": {
      "text/html": [
       "<div>\n",
       "<style scoped>\n",
       "    .dataframe tbody tr th:only-of-type {\n",
       "        vertical-align: middle;\n",
       "    }\n",
       "\n",
       "    .dataframe tbody tr th {\n",
       "        vertical-align: top;\n",
       "    }\n",
       "\n",
       "    .dataframe thead th {\n",
       "        text-align: right;\n",
       "    }\n",
       "</style>\n",
       "<table border=\"1\" class=\"dataframe\">\n",
       "  <thead>\n",
       "    <tr style=\"text-align: right;\">\n",
       "      <th></th>\n",
       "      <th>Variable</th>\n",
       "      <th>Coef</th>\n",
       "    </tr>\n",
       "  </thead>\n",
       "  <tbody>\n",
       "    <tr>\n",
       "      <th>127</th>\n",
       "      <td>28151_e2_sma6</td>\n",
       "      <td>0.121337</td>\n",
       "    </tr>\n",
       "    <tr>\n",
       "      <th>137</th>\n",
       "      <td>FIPE12_FIPE0002Q2_sma3_sma6_sma12_o1</td>\n",
       "      <td>0.116420</td>\n",
       "    </tr>\n",
       "    <tr>\n",
       "      <th>353</th>\n",
       "      <td>20122_sma12</td>\n",
       "      <td>0.099211</td>\n",
       "    </tr>\n",
       "    <tr>\n",
       "      <th>877</th>\n",
       "      <td>24387_e2_sma3_sma12_o1</td>\n",
       "      <td>0.097072</td>\n",
       "    </tr>\n",
       "    <tr>\n",
       "      <th>729</th>\n",
       "      <td>4735_sma3</td>\n",
       "      <td>0.091993</td>\n",
       "    </tr>\n",
       "    <tr>\n",
       "      <th>...</th>\n",
       "      <td>...</td>\n",
       "      <td>...</td>\n",
       "    </tr>\n",
       "    <tr>\n",
       "      <th>672</th>\n",
       "      <td>5741_e2_sma3_sma6_o1</td>\n",
       "      <td>-0.049470</td>\n",
       "    </tr>\n",
       "    <tr>\n",
       "      <th>531</th>\n",
       "      <td>21962_e2_sma3_sma12_o1</td>\n",
       "      <td>-0.061832</td>\n",
       "    </tr>\n",
       "    <tr>\n",
       "      <th>371</th>\n",
       "      <td>21941_e2_sma6</td>\n",
       "      <td>-0.065006</td>\n",
       "    </tr>\n",
       "    <tr>\n",
       "      <th>716</th>\n",
       "      <td>5456_e2</td>\n",
       "      <td>-0.081226</td>\n",
       "    </tr>\n",
       "    <tr>\n",
       "      <th>185</th>\n",
       "      <td>1508_e2_sma12</td>\n",
       "      <td>-0.202472</td>\n",
       "    </tr>\n",
       "  </tbody>\n",
       "</table>\n",
       "<p>80 rows × 2 columns</p>\n",
       "</div>"
      ],
      "text/plain": [
       "                                 Variable      Coef\n",
       "127                         28151_e2_sma6  0.121337\n",
       "137  FIPE12_FIPE0002Q2_sma3_sma6_sma12_o1  0.116420\n",
       "353                           20122_sma12  0.099211\n",
       "877                24387_e2_sma3_sma12_o1  0.097072\n",
       "729                             4735_sma3  0.091993\n",
       "..                                    ...       ...\n",
       "672                  5741_e2_sma3_sma6_o1 -0.049470\n",
       "531                21962_e2_sma3_sma12_o1 -0.061832\n",
       "371                         21941_e2_sma6 -0.065006\n",
       "716                               5456_e2 -0.081226\n",
       "185                         1508_e2_sma12 -0.202472\n",
       "\n",
       "[80 rows x 2 columns]"
      ]
     },
     "execution_count": 399,
     "metadata": {},
     "output_type": "execute_result"
    }
   ],
   "source": [
    "(coefs[coefs['Coef'] != 0]).sort_values('Coef',ascending=False)"
   ]
  },
  {
   "cell_type": "code",
   "execution_count": 400,
   "metadata": {},
   "outputs": [],
   "source": [
    "cof = (coefs[coefs['Coef'] != 0]).sort_values('Coef',ascending=False)"
   ]
  },
  {
   "cell_type": "code",
   "execution_count": 401,
   "metadata": {},
   "outputs": [],
   "source": [
    "cof['Serie'] = cof['Variable'].str.split('_',expand=True)[0]"
   ]
  },
  {
   "cell_type": "code",
   "execution_count": 402,
   "metadata": {},
   "outputs": [],
   "source": [
    "bcb_md = pd.read_csv('data/bcb_metadata.csv',encoding='latin-1',sep=';')"
   ]
  },
  {
   "cell_type": "code",
   "execution_count": 403,
   "metadata": {},
   "outputs": [
    {
     "data": {
      "text/html": [
       "<div>\n",
       "<style scoped>\n",
       "    .dataframe tbody tr th:only-of-type {\n",
       "        vertical-align: middle;\n",
       "    }\n",
       "\n",
       "    .dataframe tbody tr th {\n",
       "        vertical-align: top;\n",
       "    }\n",
       "\n",
       "    .dataframe thead th {\n",
       "        text-align: right;\n",
       "    }\n",
       "</style>\n",
       "<table border=\"1\" class=\"dataframe\">\n",
       "  <thead>\n",
       "    <tr style=\"text-align: right;\">\n",
       "      <th></th>\n",
       "      <th>Variable</th>\n",
       "      <th>Nome</th>\n",
       "      <th>Coef</th>\n",
       "    </tr>\n",
       "  </thead>\n",
       "  <tbody>\n",
       "    <tr>\n",
       "      <th>0</th>\n",
       "      <td>28151_e2_sma6</td>\n",
       "      <td>PMS - Índice de volume de serviços - Outros se...</td>\n",
       "      <td>0.121337</td>\n",
       "    </tr>\n",
       "    <tr>\n",
       "      <th>1</th>\n",
       "      <td>FIPE12_FIPE0002Q2_sma3_sma6_sma12_o1</td>\n",
       "      <td>NaN</td>\n",
       "      <td>0.116420</td>\n",
       "    </tr>\n",
       "    <tr>\n",
       "      <th>2</th>\n",
       "      <td>20122_sma12</td>\n",
       "      <td>Índice de volume de vendas no varejo - Outros ...</td>\n",
       "      <td>0.099211</td>\n",
       "    </tr>\n",
       "    <tr>\n",
       "      <th>3</th>\n",
       "      <td>24387_e2_sma3_sma12_o1</td>\n",
       "      <td>Rendimento médio real habitual das pessoas ocu...</td>\n",
       "      <td>0.097072</td>\n",
       "    </tr>\n",
       "    <tr>\n",
       "      <th>4</th>\n",
       "      <td>4735_sma3</td>\n",
       "      <td>NFSP sem desvalorização cambial - Fluxo acumul...</td>\n",
       "      <td>0.091993</td>\n",
       "    </tr>\n",
       "    <tr>\n",
       "      <th>...</th>\n",
       "      <td>...</td>\n",
       "      <td>...</td>\n",
       "      <td>...</td>\n",
       "    </tr>\n",
       "    <tr>\n",
       "      <th>75</th>\n",
       "      <td>5741_e2_sma3_sma6_o1</td>\n",
       "      <td>NFSP sem desvalorização cambial (% PIB) - Flux...</td>\n",
       "      <td>-0.049470</td>\n",
       "    </tr>\n",
       "    <tr>\n",
       "      <th>76</th>\n",
       "      <td>21962_e2_sma3_sma12_o1</td>\n",
       "      <td>Produção Industrial (2012=100)  Geral  Norde...</td>\n",
       "      <td>-0.061832</td>\n",
       "    </tr>\n",
       "    <tr>\n",
       "      <th>77</th>\n",
       "      <td>21941_e2_sma6</td>\n",
       "      <td>Produção Industrial (2012=100) - Geral - Com a...</td>\n",
       "      <td>-0.065006</td>\n",
       "    </tr>\n",
       "    <tr>\n",
       "      <th>78</th>\n",
       "      <td>5456_e2</td>\n",
       "      <td>NFSP sem desvalorização cambial (% PIB) - Flux...</td>\n",
       "      <td>-0.081226</td>\n",
       "    </tr>\n",
       "    <tr>\n",
       "      <th>79</th>\n",
       "      <td>1508_e2_sma12</td>\n",
       "      <td>Índice de volume de vendas no varejo - Hiper/s...</td>\n",
       "      <td>-0.202472</td>\n",
       "    </tr>\n",
       "  </tbody>\n",
       "</table>\n",
       "<p>80 rows × 3 columns</p>\n",
       "</div>"
      ],
      "text/plain": [
       "                                Variable  \\\n",
       "0                          28151_e2_sma6   \n",
       "1   FIPE12_FIPE0002Q2_sma3_sma6_sma12_o1   \n",
       "2                            20122_sma12   \n",
       "3                 24387_e2_sma3_sma12_o1   \n",
       "4                              4735_sma3   \n",
       "..                                   ...   \n",
       "75                  5741_e2_sma3_sma6_o1   \n",
       "76                21962_e2_sma3_sma12_o1   \n",
       "77                         21941_e2_sma6   \n",
       "78                               5456_e2   \n",
       "79                         1508_e2_sma12   \n",
       "\n",
       "                                                 Nome      Coef  \n",
       "0   PMS - Índice de volume de serviços - Outros se...  0.121337  \n",
       "1                                                 NaN  0.116420  \n",
       "2   Índice de volume de vendas no varejo - Outros ...  0.099211  \n",
       "3   Rendimento médio real habitual das pessoas ocu...  0.097072  \n",
       "4   NFSP sem desvalorização cambial - Fluxo acumul...  0.091993  \n",
       "..                                                ...       ...  \n",
       "75  NFSP sem desvalorização cambial (% PIB) - Flux... -0.049470  \n",
       "76  Produção Industrial (2012=100)  Geral  Norde... -0.061832  \n",
       "77  Produção Industrial (2012=100) - Geral - Com a... -0.065006  \n",
       "78  NFSP sem desvalorização cambial (% PIB) - Flux... -0.081226  \n",
       "79  Índice de volume de vendas no varejo - Hiper/s... -0.202472  \n",
       "\n",
       "[80 rows x 3 columns]"
      ]
     },
     "execution_count": 403,
     "metadata": {},
     "output_type": "execute_result"
    }
   ],
   "source": [
    "cof.merge(bcb_md.astype(str),how='left',left_on='Serie',right_on='Codigo')[['Variable','Nome','Coef']]"
   ]
  },
  {
   "cell_type": "code",
   "execution_count": 404,
   "metadata": {},
   "outputs": [
    {
     "data": {
      "text/plain": [
       "<AxesSubplot:>"
      ]
     },
     "execution_count": 404,
     "metadata": {},
     "output_type": "execute_result"
    },
    {
     "data": {
      "image/png": "[encoded data removed]",
      "text/plain": [
       "<Figure size 432x288 with 1 Axes>"
      ]
     },
     "metadata": {
      "needs_background": "light"
     },
     "output_type": "display_data"
    }
   ],
   "source": [
    "pd.DataFrame({'previsto':model.predict(X_train),'observado':y_train}).plot()"
   ]
  },
  {
   "cell_type": "code",
   "execution_count": 546,
   "metadata": {},
   "outputs": [
    {
     "data": {
      "text/plain": [
       "<AxesSubplot:>"
      ]
     },
     "execution_count": 546,
     "metadata": {},
     "output_type": "execute_result"
    },
    {
     "data": {
      "image/png": "[encoded data removed]",
      "text/plain": [
       "<Figure size 432x288 with 1 Axes>"
      ]
     },
     "metadata": {
      "needs_background": "light"
     },
     "output_type": "display_data"
    }
   ],
   "source": [
    "pd.DataFrame({'previsto':model.predict(X_test),'observado':y_test}).plot()"
   ]
  },
  {
   "cell_type": "code",
   "execution_count": 406,
   "metadata": {},
   "outputs": [],
   "source": [
    "X = X_train.loc[:,model.coef_ > 0]"
   ]
  },
  {
   "cell_type": "code",
   "execution_count": 407,
   "metadata": {},
   "outputs": [],
   "source": [
    "X_train = X_train.loc[:,model.coef_ > 0]\n",
    "X_test = X_test.loc[:,model.coef_ > 0]"
   ]
  },
  {
   "cell_type": "code",
   "execution_count": 414,
   "metadata": {},
   "outputs": [],
   "source": [
    "import sklearn.neural_network as nn"
   ]
  },
  {
   "cell_type": "code",
   "execution_count": 574,
   "metadata": {},
   "outputs": [],
   "source": [
    "m = nn.MLPRegressor(activation='tanh',hidden_layer_sizes=(500,250),max_iter=1000,alpha=.01)"
   ]
  },
  {
   "cell_type": "code",
   "execution_count": 575,
   "metadata": {},
   "outputs": [
    {
     "data": {
      "text/html": [
       "<style>#sk-container-id-42 {color: black;background-color: white;}#sk-container-id-42 pre{padding: 0;}#sk-container-id-42 div.sk-toggleable {background-color: white;}#sk-container-id-42 label.sk-toggleable__label {cursor: pointer;display: block;width: 100%;margin-bottom: 0;padding: 0.3em;box-sizing: border-box;text-align: center;}#sk-container-id-42 label.sk-toggleable__label-arrow:before {content: \"▸\";float: left;margin-right: 0.25em;color: #696969;}#sk-container-id-42 label.sk-toggleable__label-arrow:hover:before {color: black;}#sk-container-id-42 div.sk-estimator:hover label.sk-toggleable__label-arrow:before {color: black;}#sk-container-id-42 div.sk-toggleable__content {max-height: 0;max-width: 0;overflow: hidden;text-align: left;background-color: #f0f8ff;}#sk-container-id-42 div.sk-toggleable__content pre {margin: 0.2em;color: black;border-radius: 0.25em;background-color: #f0f8ff;}#sk-container-id-42 input.sk-toggleable__control:checked~div.sk-toggleable__content {max-height: 200px;max-width: 100%;overflow: auto;}#sk-container-id-42 input.sk-toggleable__control:checked~label.sk-toggleable__label-arrow:before {content: \"▾\";}#sk-container-id-42 div.sk-estimator input.sk-toggleable__control:checked~label.sk-toggleable__label {background-color: #d4ebff;}#sk-container-id-42 div.sk-label input.sk-toggleable__control:checked~label.sk-toggleable__label {background-color: #d4ebff;}#sk-container-id-42 input.sk-hidden--visually {border: 0;clip: rect(1px 1px 1px 1px);clip: rect(1px, 1px, 1px, 1px);height: 1px;margin: -1px;overflow: hidden;padding: 0;position: absolute;width: 1px;}#sk-container-id-42 div.sk-estimator {font-family: monospace;background-color: #f0f8ff;border: 1px dotted black;border-radius: 0.25em;box-sizing: border-box;margin-bottom: 0.5em;}#sk-container-id-42 div.sk-estimator:hover {background-color: #d4ebff;}#sk-container-id-42 div.sk-parallel-item::after {content: \"\";width: 100%;border-bottom: 1px solid gray;flex-grow: 1;}#sk-container-id-42 div.sk-label:hover label.sk-toggleable__label {background-color: #d4ebff;}#sk-container-id-42 div.sk-serial::before {content: \"\";position: absolute;border-left: 1px solid gray;box-sizing: border-box;top: 0;bottom: 0;left: 50%;z-index: 0;}#sk-container-id-42 div.sk-serial {display: flex;flex-direction: column;align-items: center;background-color: white;padding-right: 0.2em;padding-left: 0.2em;position: relative;}#sk-container-id-42 div.sk-item {position: relative;z-index: 1;}#sk-container-id-42 div.sk-parallel {display: flex;align-items: stretch;justify-content: center;background-color: white;position: relative;}#sk-container-id-42 div.sk-item::before, #sk-container-id-42 div.sk-parallel-item::before {content: \"\";position: absolute;border-left: 1px solid gray;box-sizing: border-box;top: 0;bottom: 0;left: 50%;z-index: -1;}#sk-container-id-42 div.sk-parallel-item {display: flex;flex-direction: column;z-index: 1;position: relative;background-color: white;}#sk-container-id-42 div.sk-parallel-item:first-child::after {align-self: flex-end;width: 50%;}#sk-container-id-42 div.sk-parallel-item:last-child::after {align-self: flex-start;width: 50%;}#sk-container-id-42 div.sk-parallel-item:only-child::after {width: 0;}#sk-container-id-42 div.sk-dashed-wrapped {border: 1px dashed gray;margin: 0 0.4em 0.5em 0.4em;box-sizing: border-box;padding-bottom: 0.4em;background-color: white;}#sk-container-id-42 div.sk-label label {font-family: monospace;font-weight: bold;display: inline-block;line-height: 1.2em;}#sk-container-id-42 div.sk-label-container {text-align: center;}#sk-container-id-42 div.sk-container {/* jupyter's `normalize.less` sets `[hidden] { display: none; }` but bootstrap.min.css set `[hidden] { display: none !important; }` so we also need the `!important` here to be able to override the default hidden behavior on the sphinx rendered scikit-learn.org. See: https://github.com/scikit-learn/scikit-learn/issues/21755 */display: inline-block !important;position: relative;}#sk-container-id-42 div.sk-text-repr-fallback {display: none;}</style><div id=\"sk-container-id-42\" class=\"sk-top-container\"><div class=\"sk-text-repr-fallback\"><pre>MLPRegressor(activation=&#x27;tanh&#x27;, alpha=0.01, hidden_layer_sizes=(500, 250),\n",
       "             max_iter=1000)</pre><b>In a Jupyter environment, please rerun this cell to show the HTML representation or trust the notebook. <br />On GitHub, the HTML representation is unable to render, please try loading this page with nbviewer.org.</b></div><div class=\"sk-container\" hidden><div class=\"sk-item\"><div class=\"sk-estimator sk-toggleable\"><input class=\"sk-toggleable__control sk-hidden--visually\" id=\"sk-estimator-id-42\" type=\"checkbox\" checked><label for=\"sk-estimator-id-42\" class=\"sk-toggleable__label sk-toggleable__label-arrow\">MLPRegressor</label><div class=\"sk-toggleable__content\"><pre>MLPRegressor(activation=&#x27;tanh&#x27;, alpha=0.01, hidden_layer_sizes=(500, 250),\n",
       "             max_iter=1000)</pre></div></div></div></div></div>"
      ],
      "text/plain": [
       "MLPRegressor(activation='tanh', alpha=0.01, hidden_layer_sizes=(500, 250),\n",
       "             max_iter=1000)"
      ]
     },
     "execution_count": 575,
     "metadata": {},
     "output_type": "execute_result"
    }
   ],
   "source": [
    "m.fit(X_train,y_train)"
   ]
  },
  {
   "cell_type": "code",
   "execution_count": 576,
   "metadata": {},
   "outputs": [
    {
     "data": {
      "text/plain": [
       "0.045866820015051414"
      ]
     },
     "execution_count": 576,
     "metadata": {},
     "output_type": "execute_result"
    }
   ],
   "source": [
    "mae(y_train,m.predict(X_train))"
   ]
  },
  {
   "cell_type": "code",
   "execution_count": 577,
   "metadata": {},
   "outputs": [
    {
     "data": {
      "text/plain": [
       "0.31753467020631193"
      ]
     },
     "execution_count": 577,
     "metadata": {},
     "output_type": "execute_result"
    }
   ],
   "source": [
    "mae(y_test,m.predict(X_test))"
   ]
  },
  {
   "cell_type": "code",
   "execution_count": 578,
   "metadata": {},
   "outputs": [
    {
     "data": {
      "text/plain": [
       "1.7241714119134002"
      ]
     },
     "execution_count": 578,
     "metadata": {},
     "output_type": "execute_result"
    }
   ],
   "source": [
    "mape(y_test,m.predict(X_test))"
   ]
  },
  {
   "cell_type": "code",
   "execution_count": 579,
   "metadata": {},
   "outputs": [],
   "source": [
    "from sklearn.linear_model import SGDRegressor"
   ]
  },
  {
   "cell_type": "code",
   "execution_count": 580,
   "metadata": {},
   "outputs": [],
   "source": [
    "m = SGDRegressor(max_iter=100000,alpha=0.1,fit_intercept=False)"
   ]
  },
  {
   "cell_type": "code",
   "execution_count": 581,
   "metadata": {},
   "outputs": [
    {
     "data": {
      "text/html": [
       "<style>#sk-container-id-43 {color: black;background-color: white;}#sk-container-id-43 pre{padding: 0;}#sk-container-id-43 div.sk-toggleable {background-color: white;}#sk-container-id-43 label.sk-toggleable__label {cursor: pointer;display: block;width: 100%;margin-bottom: 0;padding: 0.3em;box-sizing: border-box;text-align: center;}#sk-container-id-43 label.sk-toggleable__label-arrow:before {content: \"▸\";float: left;margin-right: 0.25em;color: #696969;}#sk-container-id-43 label.sk-toggleable__label-arrow:hover:before {color: black;}#sk-container-id-43 div.sk-estimator:hover label.sk-toggleable__label-arrow:before {color: black;}#sk-container-id-43 div.sk-toggleable__content {max-height: 0;max-width: 0;overflow: hidden;text-align: left;background-color: #f0f8ff;}#sk-container-id-43 div.sk-toggleable__content pre {margin: 0.2em;color: black;border-radius: 0.25em;background-color: #f0f8ff;}#sk-container-id-43 input.sk-toggleable__control:checked~div.sk-toggleable__content {max-height: 200px;max-width: 100%;overflow: auto;}#sk-container-id-43 input.sk-toggleable__control:checked~label.sk-toggleable__label-arrow:before {content: \"▾\";}#sk-container-id-43 div.sk-estimator input.sk-toggleable__control:checked~label.sk-toggleable__label {background-color: #d4ebff;}#sk-container-id-43 div.sk-label input.sk-toggleable__control:checked~label.sk-toggleable__label {background-color: #d4ebff;}#sk-container-id-43 input.sk-hidden--visually {border: 0;clip: rect(1px 1px 1px 1px);clip: rect(1px, 1px, 1px, 1px);height: 1px;margin: -1px;overflow: hidden;padding: 0;position: absolute;width: 1px;}#sk-container-id-43 div.sk-estimator {font-family: monospace;background-color: #f0f8ff;border: 1px dotted black;border-radius: 0.25em;box-sizing: border-box;margin-bottom: 0.5em;}#sk-container-id-43 div.sk-estimator:hover {background-color: #d4ebff;}#sk-container-id-43 div.sk-parallel-item::after {content: \"\";width: 100%;border-bottom: 1px solid gray;flex-grow: 1;}#sk-container-id-43 div.sk-label:hover label.sk-toggleable__label {background-color: #d4ebff;}#sk-container-id-43 div.sk-serial::before {content: \"\";position: absolute;border-left: 1px solid gray;box-sizing: border-box;top: 0;bottom: 0;left: 50%;z-index: 0;}#sk-container-id-43 div.sk-serial {display: flex;flex-direction: column;align-items: center;background-color: white;padding-right: 0.2em;padding-left: 0.2em;position: relative;}#sk-container-id-43 div.sk-item {position: relative;z-index: 1;}#sk-container-id-43 div.sk-parallel {display: flex;align-items: stretch;justify-content: center;background-color: white;position: relative;}#sk-container-id-43 div.sk-item::before, #sk-container-id-43 div.sk-parallel-item::before {content: \"\";position: absolute;border-left: 1px solid gray;box-sizing: border-box;top: 0;bottom: 0;left: 50%;z-index: -1;}#sk-container-id-43 div.sk-parallel-item {display: flex;flex-direction: column;z-index: 1;position: relative;background-color: white;}#sk-container-id-43 div.sk-parallel-item:first-child::after {align-self: flex-end;width: 50%;}#sk-container-id-43 div.sk-parallel-item:last-child::after {align-self: flex-start;width: 50%;}#sk-container-id-43 div.sk-parallel-item:only-child::after {width: 0;}#sk-container-id-43 div.sk-dashed-wrapped {border: 1px dashed gray;margin: 0 0.4em 0.5em 0.4em;box-sizing: border-box;padding-bottom: 0.4em;background-color: white;}#sk-container-id-43 div.sk-label label {font-family: monospace;font-weight: bold;display: inline-block;line-height: 1.2em;}#sk-container-id-43 div.sk-label-container {text-align: center;}#sk-container-id-43 div.sk-container {/* jupyter's `normalize.less` sets `[hidden] { display: none; }` but bootstrap.min.css set `[hidden] { display: none !important; }` so we also need the `!important` here to be able to override the default hidden behavior on the sphinx rendered scikit-learn.org. See: https://github.com/scikit-learn/scikit-learn/issues/21755 */display: inline-block !important;position: relative;}#sk-container-id-43 div.sk-text-repr-fallback {display: none;}</style><div id=\"sk-container-id-43\" class=\"sk-top-container\"><div class=\"sk-text-repr-fallback\"><pre>SGDRegressor(alpha=0.1, fit_intercept=False, max_iter=100000)</pre><b>In a Jupyter environment, please rerun this cell to show the HTML representation or trust the notebook. <br />On GitHub, the HTML representation is unable to render, please try loading this page with nbviewer.org.</b></div><div class=\"sk-container\" hidden><div class=\"sk-item\"><div class=\"sk-estimator sk-toggleable\"><input class=\"sk-toggleable__control sk-hidden--visually\" id=\"sk-estimator-id-43\" type=\"checkbox\" checked><label for=\"sk-estimator-id-43\" class=\"sk-toggleable__label sk-toggleable__label-arrow\">SGDRegressor</label><div class=\"sk-toggleable__content\"><pre>SGDRegressor(alpha=0.1, fit_intercept=False, max_iter=100000)</pre></div></div></div></div></div>"
      ],
      "text/plain": [
       "SGDRegressor(alpha=0.1, fit_intercept=False, max_iter=100000)"
      ]
     },
     "execution_count": 581,
     "metadata": {},
     "output_type": "execute_result"
    }
   ],
   "source": [
    "m.fit(X_train,y_train)"
   ]
  },
  {
   "cell_type": "code",
   "execution_count": 582,
   "metadata": {},
   "outputs": [
    {
     "data": {
      "text/plain": [
       "array([-2.91080058e+15, -2.92037177e+15, -4.46951933e+12, -1.08309794e+12,\n",
       "       -5.34994106e+12, -1.56958202e+13, -1.76240669e+12, -1.72789748e+12,\n",
       "       -7.85375795e+13, -5.18315924e+12, -4.27151233e+15, -1.78431154e+13,\n",
       "       -6.57097440e+12, -1.34029161e+13, -4.29804837e+15, -7.44340420e+13,\n",
       "       -1.64297706e+13, -1.04275892e+13])"
      ]
     },
     "execution_count": 582,
     "metadata": {},
     "output_type": "execute_result"
    }
   ],
   "source": [
    "m.predict(X_test)"
   ]
  },
  {
   "cell_type": "code",
   "execution_count": 583,
   "metadata": {},
   "outputs": [
    {
     "data": {
      "text/plain": [
       "814091716151799.5"
      ]
     },
     "execution_count": 583,
     "metadata": {},
     "output_type": "execute_result"
    }
   ],
   "source": [
    "mae(y_test,m.predict(X_test))"
   ]
  },
  {
   "cell_type": "code",
   "execution_count": 584,
   "metadata": {},
   "outputs": [],
   "source": [
    "from catboost import CatBoostRegressor"
   ]
  },
  {
   "cell_type": "code",
   "execution_count": 585,
   "metadata": {},
   "outputs": [],
   "source": [
    "m = CatBoostRegressor(iterations=1000,learning_rate=.01,depth=4,l2_leaf_reg=1)"
   ]
  },
  {
   "cell_type": "code",
   "execution_count": 586,
   "metadata": {},
   "outputs": [
    {
     "name": "stdout",
     "output_type": "stream",
     "text": [
      "0:\tlearn: 1.0014430\ttotal: 24.7ms\tremaining: 24.7s\n",
      "1:\tlearn: 0.9950153\ttotal: 41ms\tremaining: 20.5s\n",
      "2:\tlearn: 0.9887478\ttotal: 58.7ms\tremaining: 19.5s\n",
      "3:\tlearn: 0.9821571\ttotal: 67.4ms\tremaining: 16.8s\n",
      "4:\tlearn: 0.9756688\ttotal: 80.9ms\tremaining: 16.1s\n",
      "5:\tlearn: 0.9693886\ttotal: 99.6ms\tremaining: 16.5s\n",
      "6:\tlearn: 0.9630304\ttotal: 115ms\tremaining: 16.3s\n",
      "7:\tlearn: 0.9581171\ttotal: 131ms\tremaining: 16.3s\n",
      "8:\tlearn: 0.9524924\ttotal: 145ms\tremaining: 15.9s\n",
      "9:\tlearn: 0.9465751\ttotal: 182ms\tremaining: 18s\n",
      "10:\tlearn: 0.9406925\ttotal: 213ms\tremaining: 19.1s\n",
      "11:\tlearn: 0.9352112\ttotal: 234ms\tremaining: 19.3s\n",
      "12:\tlearn: 0.9296062\ttotal: 265ms\tremaining: 20.1s\n",
      "13:\tlearn: 0.9241876\ttotal: 283ms\tremaining: 19.9s\n",
      "14:\tlearn: 0.9182868\ttotal: 312ms\tremaining: 20.5s\n",
      "15:\tlearn: 0.9126455\ttotal: 328ms\tremaining: 20.2s\n",
      "16:\tlearn: 0.9069601\ttotal: 342ms\tremaining: 19.8s\n",
      "17:\tlearn: 0.9015230\ttotal: 358ms\tremaining: 19.5s\n",
      "18:\tlearn: 0.8960886\ttotal: 375ms\tremaining: 19.4s\n",
      "19:\tlearn: 0.8910680\ttotal: 390ms\tremaining: 19.1s\n",
      "20:\tlearn: 0.8859294\ttotal: 399ms\tremaining: 18.6s\n",
      "21:\tlearn: 0.8805274\ttotal: 408ms\tremaining: 18.1s\n",
      "22:\tlearn: 0.8756936\ttotal: 422ms\tremaining: 17.9s\n",
      "23:\tlearn: 0.8708328\ttotal: 436ms\tremaining: 17.7s\n",
      "24:\tlearn: 0.8656791\ttotal: 451ms\tremaining: 17.6s\n",
      "25:\tlearn: 0.8612216\ttotal: 468ms\tremaining: 17.5s\n",
      "26:\tlearn: 0.8563087\ttotal: 484ms\tremaining: 17.5s\n",
      "27:\tlearn: 0.8513251\ttotal: 495ms\tremaining: 17.2s\n",
      "28:\tlearn: 0.8460601\ttotal: 509ms\tremaining: 17s\n",
      "29:\tlearn: 0.8414866\ttotal: 527ms\tremaining: 17s\n",
      "30:\tlearn: 0.8365793\ttotal: 541ms\tremaining: 16.9s\n",
      "31:\tlearn: 0.8316888\ttotal: 552ms\tremaining: 16.7s\n",
      "32:\tlearn: 0.8272577\ttotal: 561ms\tremaining: 16.4s\n",
      "33:\tlearn: 0.8221364\ttotal: 574ms\tremaining: 16.3s\n",
      "34:\tlearn: 0.8174297\ttotal: 585ms\tremaining: 16.1s\n",
      "35:\tlearn: 0.8129536\ttotal: 593ms\tremaining: 15.9s\n",
      "36:\tlearn: 0.8086929\ttotal: 602ms\tremaining: 15.7s\n",
      "37:\tlearn: 0.8041307\ttotal: 613ms\tremaining: 15.5s\n",
      "38:\tlearn: 0.7991840\ttotal: 622ms\tremaining: 15.3s\n",
      "39:\tlearn: 0.7941783\ttotal: 636ms\tremaining: 15.3s\n",
      "40:\tlearn: 0.7900246\ttotal: 649ms\tremaining: 15.2s\n",
      "41:\tlearn: 0.7854154\ttotal: 667ms\tremaining: 15.2s\n",
      "42:\tlearn: 0.7813386\ttotal: 681ms\tremaining: 15.2s\n",
      "43:\tlearn: 0.7771767\ttotal: 690ms\tremaining: 15s\n",
      "44:\tlearn: 0.7731238\ttotal: 698ms\tremaining: 14.8s\n",
      "45:\tlearn: 0.7686908\ttotal: 710ms\tremaining: 14.7s\n",
      "46:\tlearn: 0.7645229\ttotal: 718ms\tremaining: 14.6s\n",
      "47:\tlearn: 0.7602349\ttotal: 730ms\tremaining: 14.5s\n",
      "48:\tlearn: 0.7562101\ttotal: 741ms\tremaining: 14.4s\n",
      "49:\tlearn: 0.7523127\ttotal: 749ms\tremaining: 14.2s\n",
      "50:\tlearn: 0.7484625\ttotal: 760ms\tremaining: 14.1s\n",
      "51:\tlearn: 0.7445476\ttotal: 768ms\tremaining: 14s\n",
      "52:\tlearn: 0.7403258\ttotal: 782ms\tremaining: 14s\n",
      "53:\tlearn: 0.7365978\ttotal: 793ms\tremaining: 13.9s\n",
      "54:\tlearn: 0.7326568\ttotal: 801ms\tremaining: 13.8s\n",
      "55:\tlearn: 0.7286877\ttotal: 813ms\tremaining: 13.7s\n",
      "56:\tlearn: 0.7245285\ttotal: 823ms\tremaining: 13.6s\n",
      "57:\tlearn: 0.7208309\ttotal: 838ms\tremaining: 13.6s\n",
      "58:\tlearn: 0.7168324\ttotal: 857ms\tremaining: 13.7s\n",
      "59:\tlearn: 0.7131887\ttotal: 875ms\tremaining: 13.7s\n",
      "60:\tlearn: 0.7093458\ttotal: 883ms\tremaining: 13.6s\n",
      "61:\tlearn: 0.7057471\ttotal: 894ms\tremaining: 13.5s\n",
      "62:\tlearn: 0.7022557\ttotal: 905ms\tremaining: 13.5s\n",
      "63:\tlearn: 0.6988181\ttotal: 913ms\tremaining: 13.4s\n",
      "64:\tlearn: 0.6955496\ttotal: 924ms\tremaining: 13.3s\n",
      "65:\tlearn: 0.6919698\ttotal: 932ms\tremaining: 13.2s\n",
      "66:\tlearn: 0.6884967\ttotal: 944ms\tremaining: 13.2s\n",
      "67:\tlearn: 0.6850028\ttotal: 955ms\tremaining: 13.1s\n",
      "68:\tlearn: 0.6810841\ttotal: 964ms\tremaining: 13s\n",
      "69:\tlearn: 0.6781771\ttotal: 975ms\tremaining: 13s\n",
      "70:\tlearn: 0.6744015\ttotal: 985ms\tremaining: 12.9s\n",
      "71:\tlearn: 0.6711475\ttotal: 996ms\tremaining: 12.8s\n",
      "72:\tlearn: 0.6679143\ttotal: 1.01s\tremaining: 12.8s\n",
      "73:\tlearn: 0.6648509\ttotal: 1.02s\tremaining: 12.8s\n",
      "74:\tlearn: 0.6614486\ttotal: 1.03s\tremaining: 12.7s\n",
      "75:\tlearn: 0.6579938\ttotal: 1.04s\tremaining: 12.6s\n",
      "76:\tlearn: 0.6547821\ttotal: 1.05s\tremaining: 12.6s\n",
      "77:\tlearn: 0.6514229\ttotal: 1.07s\tremaining: 12.6s\n",
      "78:\tlearn: 0.6484990\ttotal: 1.08s\tremaining: 12.6s\n",
      "79:\tlearn: 0.6446026\ttotal: 1.09s\tremaining: 12.5s\n",
      "80:\tlearn: 0.6414095\ttotal: 1.1s\tremaining: 12.5s\n",
      "81:\tlearn: 0.6380841\ttotal: 1.11s\tremaining: 12.4s\n",
      "82:\tlearn: 0.6354715\ttotal: 1.12s\tremaining: 12.4s\n",
      "83:\tlearn: 0.6327155\ttotal: 1.13s\tremaining: 12.3s\n",
      "84:\tlearn: 0.6296505\ttotal: 1.14s\tremaining: 12.3s\n",
      "85:\tlearn: 0.6269569\ttotal: 1.15s\tremaining: 12.2s\n",
      "86:\tlearn: 0.6238551\ttotal: 1.16s\tremaining: 12.2s\n",
      "87:\tlearn: 0.6215405\ttotal: 1.17s\tremaining: 12.1s\n",
      "88:\tlearn: 0.6188855\ttotal: 1.18s\tremaining: 12.1s\n",
      "89:\tlearn: 0.6160394\ttotal: 1.19s\tremaining: 12.1s\n",
      "90:\tlearn: 0.6133264\ttotal: 1.2s\tremaining: 12s\n",
      "91:\tlearn: 0.6101816\ttotal: 1.21s\tremaining: 12s\n",
      "92:\tlearn: 0.6073658\ttotal: 1.22s\tremaining: 11.9s\n",
      "93:\tlearn: 0.6047207\ttotal: 1.23s\tremaining: 11.9s\n",
      "94:\tlearn: 0.6023153\ttotal: 1.25s\tremaining: 11.9s\n",
      "95:\tlearn: 0.5997511\ttotal: 1.26s\tremaining: 11.9s\n",
      "96:\tlearn: 0.5968477\ttotal: 1.27s\tremaining: 11.9s\n",
      "97:\tlearn: 0.5942510\ttotal: 1.29s\tremaining: 11.8s\n",
      "98:\tlearn: 0.5915535\ttotal: 1.3s\tremaining: 11.8s\n",
      "99:\tlearn: 0.5886961\ttotal: 1.31s\tremaining: 11.8s\n",
      "100:\tlearn: 0.5858566\ttotal: 1.32s\tremaining: 11.7s\n",
      "101:\tlearn: 0.5838902\ttotal: 1.32s\tremaining: 11.7s\n",
      "102:\tlearn: 0.5810877\ttotal: 1.34s\tremaining: 11.6s\n",
      "103:\tlearn: 0.5784080\ttotal: 1.35s\tremaining: 11.6s\n",
      "104:\tlearn: 0.5759636\ttotal: 1.36s\tremaining: 11.6s\n",
      "105:\tlearn: 0.5736687\ttotal: 1.37s\tremaining: 11.5s\n",
      "106:\tlearn: 0.5715187\ttotal: 1.38s\tremaining: 11.5s\n",
      "107:\tlearn: 0.5693156\ttotal: 1.39s\tremaining: 11.5s\n",
      "108:\tlearn: 0.5668115\ttotal: 1.4s\tremaining: 11.5s\n",
      "109:\tlearn: 0.5645630\ttotal: 1.41s\tremaining: 11.4s\n",
      "110:\tlearn: 0.5620494\ttotal: 1.42s\tremaining: 11.4s\n",
      "111:\tlearn: 0.5594999\ttotal: 1.43s\tremaining: 11.4s\n",
      "112:\tlearn: 0.5572834\ttotal: 1.44s\tremaining: 11.3s\n",
      "113:\tlearn: 0.5545751\ttotal: 1.45s\tremaining: 11.3s\n",
      "114:\tlearn: 0.5516809\ttotal: 1.47s\tremaining: 11.3s\n",
      "115:\tlearn: 0.5495517\ttotal: 1.49s\tremaining: 11.3s\n",
      "116:\tlearn: 0.5471426\ttotal: 1.5s\tremaining: 11.3s\n",
      "117:\tlearn: 0.5448681\ttotal: 1.51s\tremaining: 11.3s\n",
      "118:\tlearn: 0.5427736\ttotal: 1.52s\tremaining: 11.2s\n",
      "119:\tlearn: 0.5407980\ttotal: 1.53s\tremaining: 11.2s\n",
      "120:\tlearn: 0.5382955\ttotal: 1.54s\tremaining: 11.2s\n",
      "121:\tlearn: 0.5365988\ttotal: 1.55s\tremaining: 11.2s\n",
      "122:\tlearn: 0.5346429\ttotal: 1.56s\tremaining: 11.1s\n",
      "123:\tlearn: 0.5326385\ttotal: 1.57s\tremaining: 11.1s\n",
      "124:\tlearn: 0.5307011\ttotal: 1.58s\tremaining: 11.1s\n",
      "125:\tlearn: 0.5285756\ttotal: 1.59s\tremaining: 11s\n",
      "126:\tlearn: 0.5265349\ttotal: 1.6s\tremaining: 11s\n",
      "127:\tlearn: 0.5242364\ttotal: 1.61s\tremaining: 11s\n",
      "128:\tlearn: 0.5223332\ttotal: 1.62s\tremaining: 10.9s\n",
      "129:\tlearn: 0.5204381\ttotal: 1.63s\tremaining: 10.9s\n",
      "130:\tlearn: 0.5182553\ttotal: 1.64s\tremaining: 10.9s\n",
      "131:\tlearn: 0.5156643\ttotal: 1.65s\tremaining: 10.8s\n",
      "132:\tlearn: 0.5135489\ttotal: 1.67s\tremaining: 10.9s\n",
      "133:\tlearn: 0.5115622\ttotal: 1.68s\tremaining: 10.9s\n",
      "134:\tlearn: 0.5090926\ttotal: 1.7s\tremaining: 10.9s\n",
      "135:\tlearn: 0.5069414\ttotal: 1.71s\tremaining: 10.8s\n",
      "136:\tlearn: 0.5045947\ttotal: 1.72s\tremaining: 10.8s\n",
      "137:\tlearn: 0.5024624\ttotal: 1.73s\tremaining: 10.8s\n",
      "138:\tlearn: 0.5000458\ttotal: 1.74s\tremaining: 10.8s\n",
      "139:\tlearn: 0.4980436\ttotal: 1.75s\tremaining: 10.7s\n",
      "140:\tlearn: 0.4958818\ttotal: 1.76s\tremaining: 10.7s\n",
      "141:\tlearn: 0.4940170\ttotal: 1.77s\tremaining: 10.7s\n",
      "142:\tlearn: 0.4923149\ttotal: 1.78s\tremaining: 10.7s\n",
      "143:\tlearn: 0.4904938\ttotal: 1.78s\tremaining: 10.6s\n",
      "144:\tlearn: 0.4890938\ttotal: 1.8s\tremaining: 10.6s\n",
      "145:\tlearn: 0.4871247\ttotal: 1.8s\tremaining: 10.6s\n",
      "146:\tlearn: 0.4850297\ttotal: 1.82s\tremaining: 10.5s\n",
      "147:\tlearn: 0.4828257\ttotal: 1.83s\tremaining: 10.5s\n",
      "148:\tlearn: 0.4810625\ttotal: 1.84s\tremaining: 10.5s\n",
      "149:\tlearn: 0.4790316\ttotal: 1.85s\tremaining: 10.5s\n",
      "150:\tlearn: 0.4770612\ttotal: 1.86s\tremaining: 10.5s\n",
      "151:\tlearn: 0.4755517\ttotal: 1.88s\tremaining: 10.5s\n",
      "152:\tlearn: 0.4739969\ttotal: 1.89s\tremaining: 10.5s\n",
      "153:\tlearn: 0.4725483\ttotal: 1.91s\tremaining: 10.5s\n",
      "154:\tlearn: 0.4707586\ttotal: 1.91s\tremaining: 10.4s\n",
      "155:\tlearn: 0.4691426\ttotal: 1.93s\tremaining: 10.4s\n",
      "156:\tlearn: 0.4675137\ttotal: 1.94s\tremaining: 10.4s\n",
      "157:\tlearn: 0.4661827\ttotal: 1.95s\tremaining: 10.4s\n",
      "158:\tlearn: 0.4646888\ttotal: 1.96s\tremaining: 10.4s\n",
      "159:\tlearn: 0.4628182\ttotal: 1.97s\tremaining: 10.3s\n",
      "160:\tlearn: 0.4613662\ttotal: 1.98s\tremaining: 10.3s\n",
      "161:\tlearn: 0.4601032\ttotal: 1.99s\tremaining: 10.3s\n",
      "162:\tlearn: 0.4585196\ttotal: 2s\tremaining: 10.3s\n",
      "163:\tlearn: 0.4566433\ttotal: 2.01s\tremaining: 10.3s\n",
      "164:\tlearn: 0.4551005\ttotal: 2.02s\tremaining: 10.2s\n",
      "165:\tlearn: 0.4536493\ttotal: 2.03s\tremaining: 10.2s\n",
      "166:\tlearn: 0.4518417\ttotal: 2.04s\tremaining: 10.2s\n",
      "167:\tlearn: 0.4501685\ttotal: 2.05s\tremaining: 10.2s\n",
      "168:\tlearn: 0.4487775\ttotal: 2.06s\tremaining: 10.1s\n",
      "169:\tlearn: 0.4469643\ttotal: 2.07s\tremaining: 10.1s\n",
      "170:\tlearn: 0.4450983\ttotal: 2.09s\tremaining: 10.1s\n",
      "171:\tlearn: 0.4439466\ttotal: 2.1s\tremaining: 10.1s\n",
      "172:\tlearn: 0.4421727\ttotal: 2.12s\tremaining: 10.1s\n",
      "173:\tlearn: 0.4409193\ttotal: 2.13s\tremaining: 10.1s\n",
      "174:\tlearn: 0.4388655\ttotal: 2.14s\tremaining: 10.1s\n",
      "175:\tlearn: 0.4373152\ttotal: 2.15s\tremaining: 10.1s\n",
      "176:\tlearn: 0.4355653\ttotal: 2.16s\tremaining: 10s\n",
      "177:\tlearn: 0.4338682\ttotal: 2.17s\tremaining: 10s\n",
      "178:\tlearn: 0.4319279\ttotal: 2.18s\tremaining: 9.99s\n",
      "179:\tlearn: 0.4303529\ttotal: 2.19s\tremaining: 9.97s\n",
      "180:\tlearn: 0.4288450\ttotal: 2.2s\tremaining: 9.95s\n",
      "181:\tlearn: 0.4277399\ttotal: 2.21s\tremaining: 9.93s\n",
      "182:\tlearn: 0.4264543\ttotal: 2.22s\tremaining: 9.91s\n",
      "183:\tlearn: 0.4253606\ttotal: 2.23s\tremaining: 9.89s\n",
      "184:\tlearn: 0.4242990\ttotal: 2.24s\tremaining: 9.87s\n",
      "185:\tlearn: 0.4228962\ttotal: 2.25s\tremaining: 9.84s\n",
      "186:\tlearn: 0.4211638\ttotal: 2.26s\tremaining: 9.82s\n",
      "187:\tlearn: 0.4196172\ttotal: 2.27s\tremaining: 9.8s\n",
      "188:\tlearn: 0.4181534\ttotal: 2.28s\tremaining: 9.79s\n",
      "189:\tlearn: 0.4169073\ttotal: 2.29s\tremaining: 9.77s\n",
      "190:\tlearn: 0.4149972\ttotal: 2.31s\tremaining: 9.78s\n",
      "191:\tlearn: 0.4136635\ttotal: 2.32s\tremaining: 9.78s\n",
      "192:\tlearn: 0.4123789\ttotal: 2.33s\tremaining: 9.76s\n",
      "193:\tlearn: 0.4113928\ttotal: 2.34s\tremaining: 9.73s\n",
      "194:\tlearn: 0.4099350\ttotal: 2.35s\tremaining: 9.71s\n",
      "195:\tlearn: 0.4083213\ttotal: 2.37s\tremaining: 9.71s\n",
      "196:\tlearn: 0.4074312\ttotal: 2.37s\tremaining: 9.68s\n",
      "197:\tlearn: 0.4056720\ttotal: 2.39s\tremaining: 9.67s\n",
      "198:\tlearn: 0.4046098\ttotal: 2.4s\tremaining: 9.65s\n",
      "199:\tlearn: 0.4034177\ttotal: 2.41s\tremaining: 9.63s\n",
      "200:\tlearn: 0.4022519\ttotal: 2.42s\tremaining: 9.62s\n",
      "201:\tlearn: 0.4006232\ttotal: 2.43s\tremaining: 9.6s\n",
      "202:\tlearn: 0.3994521\ttotal: 2.44s\tremaining: 9.57s\n",
      "203:\tlearn: 0.3979620\ttotal: 2.45s\tremaining: 9.55s\n",
      "204:\tlearn: 0.3964310\ttotal: 2.46s\tremaining: 9.53s\n",
      "205:\tlearn: 0.3949960\ttotal: 2.47s\tremaining: 9.51s\n",
      "206:\tlearn: 0.3937894\ttotal: 2.47s\tremaining: 9.48s\n",
      "207:\tlearn: 0.3925447\ttotal: 2.48s\tremaining: 9.46s\n",
      "208:\tlearn: 0.3916143\ttotal: 2.49s\tremaining: 9.44s\n",
      "209:\tlearn: 0.3900721\ttotal: 2.5s\tremaining: 9.42s\n",
      "210:\tlearn: 0.3885680\ttotal: 2.52s\tremaining: 9.42s\n",
      "211:\tlearn: 0.3871857\ttotal: 2.53s\tremaining: 9.4s\n",
      "212:\tlearn: 0.3860101\ttotal: 2.54s\tremaining: 9.37s\n",
      "213:\tlearn: 0.3847643\ttotal: 2.55s\tremaining: 9.35s\n",
      "214:\tlearn: 0.3833901\ttotal: 2.55s\tremaining: 9.32s\n",
      "215:\tlearn: 0.3820168\ttotal: 2.56s\tremaining: 9.3s\n",
      "216:\tlearn: 0.3804862\ttotal: 2.57s\tremaining: 9.27s\n",
      "217:\tlearn: 0.3791418\ttotal: 2.58s\tremaining: 9.25s\n",
      "218:\tlearn: 0.3781400\ttotal: 2.59s\tremaining: 9.22s\n",
      "219:\tlearn: 0.3767500\ttotal: 2.6s\tremaining: 9.21s\n",
      "220:\tlearn: 0.3753839\ttotal: 2.6s\tremaining: 9.18s\n",
      "221:\tlearn: 0.3737717\ttotal: 2.62s\tremaining: 9.17s\n",
      "222:\tlearn: 0.3724212\ttotal: 2.63s\tremaining: 9.15s\n",
      "223:\tlearn: 0.3714291\ttotal: 2.63s\tremaining: 9.12s\n",
      "224:\tlearn: 0.3701811\ttotal: 2.64s\tremaining: 9.1s\n",
      "225:\tlearn: 0.3690096\ttotal: 2.65s\tremaining: 9.08s\n",
      "226:\tlearn: 0.3680686\ttotal: 2.66s\tremaining: 9.06s\n",
      "227:\tlearn: 0.3672777\ttotal: 2.67s\tremaining: 9.04s\n",
      "228:\tlearn: 0.3664247\ttotal: 2.68s\tremaining: 9.02s\n",
      "229:\tlearn: 0.3653788\ttotal: 2.69s\tremaining: 8.99s\n",
      "230:\tlearn: 0.3642887\ttotal: 2.7s\tremaining: 8.98s\n",
      "231:\tlearn: 0.3630331\ttotal: 2.71s\tremaining: 8.97s\n",
      "232:\tlearn: 0.3624603\ttotal: 2.73s\tremaining: 8.97s\n",
      "233:\tlearn: 0.3615855\ttotal: 2.73s\tremaining: 8.95s\n",
      "234:\tlearn: 0.3608353\ttotal: 2.74s\tremaining: 8.93s\n",
      "235:\tlearn: 0.3600117\ttotal: 2.75s\tremaining: 8.9s\n",
      "236:\tlearn: 0.3587021\ttotal: 2.76s\tremaining: 8.89s\n",
      "237:\tlearn: 0.3576176\ttotal: 2.77s\tremaining: 8.86s\n",
      "238:\tlearn: 0.3563452\ttotal: 2.78s\tremaining: 8.85s\n",
      "239:\tlearn: 0.3549305\ttotal: 2.79s\tremaining: 8.83s\n",
      "240:\tlearn: 0.3537740\ttotal: 2.79s\tremaining: 8.8s\n",
      "241:\tlearn: 0.3524842\ttotal: 2.81s\tremaining: 8.79s\n",
      "242:\tlearn: 0.3510431\ttotal: 2.81s\tremaining: 8.77s\n",
      "243:\tlearn: 0.3495320\ttotal: 2.82s\tremaining: 8.75s\n",
      "244:\tlearn: 0.3482869\ttotal: 2.83s\tremaining: 8.72s\n",
      "245:\tlearn: 0.3474019\ttotal: 2.84s\tremaining: 8.71s\n",
      "246:\tlearn: 0.3461189\ttotal: 2.85s\tremaining: 8.69s\n",
      "247:\tlearn: 0.3451620\ttotal: 2.86s\tremaining: 8.67s\n",
      "248:\tlearn: 0.3439387\ttotal: 2.87s\tremaining: 8.64s\n",
      "249:\tlearn: 0.3428252\ttotal: 2.88s\tremaining: 8.63s\n",
      "250:\tlearn: 0.3418066\ttotal: 2.89s\tremaining: 8.62s\n",
      "251:\tlearn: 0.3405504\ttotal: 2.9s\tremaining: 8.6s\n",
      "252:\tlearn: 0.3394920\ttotal: 2.91s\tremaining: 8.59s\n",
      "253:\tlearn: 0.3384218\ttotal: 2.92s\tremaining: 8.59s\n",
      "254:\tlearn: 0.3374040\ttotal: 2.93s\tremaining: 8.57s\n",
      "255:\tlearn: 0.3361783\ttotal: 2.94s\tremaining: 8.55s\n",
      "256:\tlearn: 0.3349893\ttotal: 2.95s\tremaining: 8.54s\n",
      "257:\tlearn: 0.3337200\ttotal: 2.96s\tremaining: 8.51s\n",
      "258:\tlearn: 0.3327938\ttotal: 2.97s\tremaining: 8.5s\n",
      "259:\tlearn: 0.3317493\ttotal: 2.98s\tremaining: 8.47s\n",
      "260:\tlearn: 0.3307175\ttotal: 2.99s\tremaining: 8.46s\n",
      "261:\tlearn: 0.3298818\ttotal: 2.99s\tremaining: 8.44s\n",
      "262:\tlearn: 0.3290782\ttotal: 3s\tremaining: 8.42s\n",
      "263:\tlearn: 0.3279367\ttotal: 3.01s\tremaining: 8.4s\n",
      "264:\tlearn: 0.3269465\ttotal: 3.02s\tremaining: 8.38s\n",
      "265:\tlearn: 0.3258093\ttotal: 3.03s\tremaining: 8.36s\n",
      "266:\tlearn: 0.3249733\ttotal: 3.04s\tremaining: 8.35s\n",
      "267:\tlearn: 0.3242683\ttotal: 3.05s\tremaining: 8.32s\n",
      "268:\tlearn: 0.3234637\ttotal: 3.06s\tremaining: 8.31s\n",
      "269:\tlearn: 0.3222887\ttotal: 3.06s\tremaining: 8.28s\n",
      "270:\tlearn: 0.3212034\ttotal: 3.07s\tremaining: 8.27s\n",
      "271:\tlearn: 0.3200521\ttotal: 3.08s\tremaining: 8.26s\n",
      "272:\tlearn: 0.3189966\ttotal: 3.09s\tremaining: 8.23s\n",
      "273:\tlearn: 0.3181378\ttotal: 3.1s\tremaining: 8.23s\n",
      "274:\tlearn: 0.3167751\ttotal: 3.12s\tremaining: 8.23s\n",
      "275:\tlearn: 0.3158675\ttotal: 3.13s\tremaining: 8.22s\n",
      "276:\tlearn: 0.3149705\ttotal: 3.14s\tremaining: 8.2s\n",
      "277:\tlearn: 0.3140475\ttotal: 3.15s\tremaining: 8.18s\n",
      "278:\tlearn: 0.3129601\ttotal: 3.16s\tremaining: 8.16s\n",
      "279:\tlearn: 0.3117034\ttotal: 3.17s\tremaining: 8.14s\n",
      "280:\tlearn: 0.3106254\ttotal: 3.17s\tremaining: 8.12s\n",
      "281:\tlearn: 0.3094056\ttotal: 3.18s\tremaining: 8.11s\n",
      "282:\tlearn: 0.3084374\ttotal: 3.19s\tremaining: 8.09s\n",
      "283:\tlearn: 0.3074767\ttotal: 3.2s\tremaining: 8.07s\n",
      "284:\tlearn: 0.3066178\ttotal: 3.21s\tremaining: 8.05s\n",
      "285:\tlearn: 0.3059570\ttotal: 3.22s\tremaining: 8.04s\n",
      "286:\tlearn: 0.3051653\ttotal: 3.23s\tremaining: 8.02s\n",
      "287:\tlearn: 0.3040038\ttotal: 3.24s\tremaining: 8s\n",
      "288:\tlearn: 0.3033472\ttotal: 3.24s\tremaining: 7.98s\n",
      "289:\tlearn: 0.3023058\ttotal: 3.25s\tremaining: 7.96s\n",
      "290:\tlearn: 0.3015734\ttotal: 3.26s\tremaining: 7.95s\n",
      "291:\tlearn: 0.3006977\ttotal: 3.27s\tremaining: 7.93s\n",
      "292:\tlearn: 0.3000259\ttotal: 3.28s\tremaining: 7.91s\n",
      "293:\tlearn: 0.2991364\ttotal: 3.29s\tremaining: 7.89s\n",
      "294:\tlearn: 0.2981278\ttotal: 3.3s\tremaining: 7.88s\n",
      "295:\tlearn: 0.2975378\ttotal: 3.31s\tremaining: 7.87s\n",
      "296:\tlearn: 0.2967961\ttotal: 3.32s\tremaining: 7.86s\n",
      "297:\tlearn: 0.2960741\ttotal: 3.34s\tremaining: 7.86s\n",
      "298:\tlearn: 0.2952416\ttotal: 3.35s\tremaining: 7.85s\n",
      "299:\tlearn: 0.2943421\ttotal: 3.35s\tremaining: 7.83s\n",
      "300:\tlearn: 0.2934234\ttotal: 3.36s\tremaining: 7.81s\n",
      "301:\tlearn: 0.2924984\ttotal: 3.37s\tremaining: 7.8s\n",
      "302:\tlearn: 0.2918273\ttotal: 3.38s\tremaining: 7.78s\n",
      "303:\tlearn: 0.2908145\ttotal: 3.39s\tremaining: 7.76s\n",
      "304:\tlearn: 0.2900767\ttotal: 3.4s\tremaining: 7.75s\n",
      "305:\tlearn: 0.2891426\ttotal: 3.41s\tremaining: 7.73s\n",
      "306:\tlearn: 0.2883806\ttotal: 3.42s\tremaining: 7.71s\n",
      "307:\tlearn: 0.2874765\ttotal: 3.43s\tremaining: 7.7s\n",
      "308:\tlearn: 0.2866781\ttotal: 3.44s\tremaining: 7.68s\n",
      "309:\tlearn: 0.2856789\ttotal: 3.44s\tremaining: 7.67s\n",
      "310:\tlearn: 0.2850681\ttotal: 3.45s\tremaining: 7.65s\n",
      "311:\tlearn: 0.2845206\ttotal: 3.46s\tremaining: 7.64s\n",
      "312:\tlearn: 0.2836099\ttotal: 3.47s\tremaining: 7.62s\n",
      "313:\tlearn: 0.2829625\ttotal: 3.48s\tremaining: 7.6s\n",
      "314:\tlearn: 0.2822230\ttotal: 3.49s\tremaining: 7.58s\n",
      "315:\tlearn: 0.2809995\ttotal: 3.5s\tremaining: 7.57s\n",
      "316:\tlearn: 0.2800961\ttotal: 3.5s\tremaining: 7.55s\n",
      "317:\tlearn: 0.2789588\ttotal: 3.52s\tremaining: 7.54s\n",
      "318:\tlearn: 0.2778441\ttotal: 3.53s\tremaining: 7.54s\n",
      "319:\tlearn: 0.2770007\ttotal: 3.55s\tremaining: 7.54s\n",
      "320:\tlearn: 0.2761694\ttotal: 3.55s\tremaining: 7.52s\n",
      "321:\tlearn: 0.2752686\ttotal: 3.56s\tremaining: 7.5s\n",
      "322:\tlearn: 0.2743651\ttotal: 3.57s\tremaining: 7.48s\n",
      "323:\tlearn: 0.2736356\ttotal: 3.58s\tremaining: 7.47s\n",
      "324:\tlearn: 0.2727195\ttotal: 3.59s\tremaining: 7.45s\n",
      "325:\tlearn: 0.2716371\ttotal: 3.6s\tremaining: 7.44s\n",
      "326:\tlearn: 0.2707651\ttotal: 3.6s\tremaining: 7.42s\n",
      "327:\tlearn: 0.2698705\ttotal: 3.61s\tremaining: 7.4s\n",
      "328:\tlearn: 0.2691543\ttotal: 3.62s\tremaining: 7.39s\n",
      "329:\tlearn: 0.2682328\ttotal: 3.63s\tremaining: 7.38s\n",
      "330:\tlearn: 0.2674068\ttotal: 3.64s\tremaining: 7.36s\n",
      "331:\tlearn: 0.2664082\ttotal: 3.65s\tremaining: 7.34s\n",
      "332:\tlearn: 0.2658127\ttotal: 3.66s\tremaining: 7.33s\n",
      "333:\tlearn: 0.2648914\ttotal: 3.67s\tremaining: 7.31s\n",
      "334:\tlearn: 0.2643476\ttotal: 3.68s\tremaining: 7.3s\n",
      "335:\tlearn: 0.2635224\ttotal: 3.68s\tremaining: 7.28s\n",
      "336:\tlearn: 0.2626519\ttotal: 3.69s\tremaining: 7.27s\n",
      "337:\tlearn: 0.2619955\ttotal: 3.7s\tremaining: 7.25s\n",
      "338:\tlearn: 0.2613162\ttotal: 3.71s\tremaining: 7.24s\n",
      "339:\tlearn: 0.2604784\ttotal: 3.72s\tremaining: 7.23s\n",
      "340:\tlearn: 0.2596675\ttotal: 3.73s\tremaining: 7.22s\n",
      "341:\tlearn: 0.2589817\ttotal: 3.75s\tremaining: 7.21s\n",
      "342:\tlearn: 0.2581211\ttotal: 3.76s\tremaining: 7.2s\n",
      "343:\tlearn: 0.2576455\ttotal: 3.76s\tremaining: 7.18s\n",
      "344:\tlearn: 0.2566864\ttotal: 3.77s\tremaining: 7.17s\n",
      "345:\tlearn: 0.2559380\ttotal: 3.78s\tremaining: 7.15s\n",
      "346:\tlearn: 0.2552239\ttotal: 3.79s\tremaining: 7.13s\n",
      "347:\tlearn: 0.2544712\ttotal: 3.8s\tremaining: 7.12s\n",
      "348:\tlearn: 0.2537212\ttotal: 3.81s\tremaining: 7.1s\n",
      "349:\tlearn: 0.2530322\ttotal: 3.81s\tremaining: 7.09s\n",
      "350:\tlearn: 0.2522081\ttotal: 3.83s\tremaining: 7.08s\n",
      "351:\tlearn: 0.2515533\ttotal: 3.84s\tremaining: 7.06s\n",
      "352:\tlearn: 0.2509679\ttotal: 3.84s\tremaining: 7.05s\n",
      "353:\tlearn: 0.2502737\ttotal: 3.85s\tremaining: 7.03s\n",
      "354:\tlearn: 0.2496720\ttotal: 3.86s\tremaining: 7.01s\n",
      "355:\tlearn: 0.2490856\ttotal: 3.87s\tremaining: 7s\n",
      "356:\tlearn: 0.2485140\ttotal: 3.88s\tremaining: 6.98s\n",
      "357:\tlearn: 0.2477494\ttotal: 3.89s\tremaining: 6.97s\n",
      "358:\tlearn: 0.2470599\ttotal: 3.89s\tremaining: 6.95s\n",
      "359:\tlearn: 0.2460296\ttotal: 3.9s\tremaining: 6.94s\n",
      "360:\tlearn: 0.2453735\ttotal: 3.91s\tremaining: 6.92s\n",
      "361:\tlearn: 0.2447247\ttotal: 3.92s\tremaining: 6.92s\n",
      "362:\tlearn: 0.2438642\ttotal: 3.94s\tremaining: 6.91s\n",
      "363:\tlearn: 0.2431248\ttotal: 3.95s\tremaining: 6.91s\n",
      "364:\tlearn: 0.2422385\ttotal: 3.96s\tremaining: 6.89s\n",
      "365:\tlearn: 0.2415922\ttotal: 3.97s\tremaining: 6.88s\n",
      "366:\tlearn: 0.2410202\ttotal: 3.98s\tremaining: 6.86s\n",
      "367:\tlearn: 0.2405888\ttotal: 3.99s\tremaining: 6.85s\n",
      "368:\tlearn: 0.2399127\ttotal: 3.99s\tremaining: 6.83s\n",
      "369:\tlearn: 0.2390137\ttotal: 4s\tremaining: 6.82s\n",
      "370:\tlearn: 0.2382609\ttotal: 4.01s\tremaining: 6.8s\n",
      "371:\tlearn: 0.2378282\ttotal: 4.02s\tremaining: 6.79s\n",
      "372:\tlearn: 0.2372780\ttotal: 4.03s\tremaining: 6.77s\n",
      "373:\tlearn: 0.2368060\ttotal: 4.04s\tremaining: 6.76s\n",
      "374:\tlearn: 0.2362332\ttotal: 4.05s\tremaining: 6.75s\n",
      "375:\tlearn: 0.2358021\ttotal: 4.06s\tremaining: 6.73s\n",
      "376:\tlearn: 0.2353088\ttotal: 4.07s\tremaining: 6.72s\n",
      "377:\tlearn: 0.2346434\ttotal: 4.07s\tremaining: 6.7s\n",
      "378:\tlearn: 0.2340168\ttotal: 4.08s\tremaining: 6.69s\n",
      "379:\tlearn: 0.2330780\ttotal: 4.09s\tremaining: 6.67s\n",
      "380:\tlearn: 0.2326204\ttotal: 4.1s\tremaining: 6.66s\n",
      "381:\tlearn: 0.2321073\ttotal: 4.11s\tremaining: 6.65s\n",
      "382:\tlearn: 0.2316210\ttotal: 4.12s\tremaining: 6.63s\n",
      "383:\tlearn: 0.2309803\ttotal: 4.13s\tremaining: 6.63s\n",
      "384:\tlearn: 0.2303214\ttotal: 4.15s\tremaining: 6.63s\n",
      "385:\tlearn: 0.2298027\ttotal: 4.17s\tremaining: 6.63s\n",
      "386:\tlearn: 0.2288344\ttotal: 4.17s\tremaining: 6.61s\n",
      "387:\tlearn: 0.2281603\ttotal: 4.18s\tremaining: 6.6s\n",
      "388:\tlearn: 0.2273695\ttotal: 4.19s\tremaining: 6.58s\n",
      "389:\tlearn: 0.2266510\ttotal: 4.2s\tremaining: 6.57s\n",
      "390:\tlearn: 0.2259840\ttotal: 4.21s\tremaining: 6.55s\n",
      "391:\tlearn: 0.2252180\ttotal: 4.22s\tremaining: 6.54s\n",
      "392:\tlearn: 0.2247354\ttotal: 4.23s\tremaining: 6.53s\n",
      "393:\tlearn: 0.2241619\ttotal: 4.24s\tremaining: 6.52s\n",
      "394:\tlearn: 0.2235387\ttotal: 4.25s\tremaining: 6.51s\n",
      "395:\tlearn: 0.2227589\ttotal: 4.25s\tremaining: 6.49s\n",
      "396:\tlearn: 0.2220326\ttotal: 4.27s\tremaining: 6.48s\n",
      "397:\tlearn: 0.2213558\ttotal: 4.29s\tremaining: 6.49s\n",
      "398:\tlearn: 0.2205121\ttotal: 4.36s\tremaining: 6.56s\n",
      "399:\tlearn: 0.2197916\ttotal: 4.37s\tremaining: 6.56s\n",
      "400:\tlearn: 0.2191202\ttotal: 4.41s\tremaining: 6.58s\n",
      "401:\tlearn: 0.2187119\ttotal: 4.45s\tremaining: 6.62s\n",
      "402:\tlearn: 0.2178717\ttotal: 4.47s\tremaining: 6.62s\n",
      "403:\tlearn: 0.2174076\ttotal: 4.48s\tremaining: 6.61s\n",
      "404:\tlearn: 0.2170375\ttotal: 4.49s\tremaining: 6.59s\n",
      "405:\tlearn: 0.2165257\ttotal: 4.49s\tremaining: 6.58s\n",
      "406:\tlearn: 0.2159818\ttotal: 4.5s\tremaining: 6.56s\n",
      "407:\tlearn: 0.2154776\ttotal: 4.51s\tremaining: 6.55s\n",
      "408:\tlearn: 0.2146706\ttotal: 4.52s\tremaining: 6.54s\n",
      "409:\tlearn: 0.2141962\ttotal: 4.53s\tremaining: 6.53s\n",
      "410:\tlearn: 0.2133869\ttotal: 4.54s\tremaining: 6.51s\n",
      "411:\tlearn: 0.2127362\ttotal: 4.55s\tremaining: 6.5s\n",
      "412:\tlearn: 0.2122451\ttotal: 4.57s\tremaining: 6.49s\n",
      "413:\tlearn: 0.2115203\ttotal: 4.59s\tremaining: 6.49s\n",
      "414:\tlearn: 0.2109882\ttotal: 4.6s\tremaining: 6.49s\n",
      "415:\tlearn: 0.2104973\ttotal: 4.61s\tremaining: 6.47s\n",
      "416:\tlearn: 0.2100994\ttotal: 4.62s\tremaining: 6.46s\n",
      "417:\tlearn: 0.2096219\ttotal: 4.63s\tremaining: 6.44s\n",
      "418:\tlearn: 0.2091749\ttotal: 4.64s\tremaining: 6.43s\n",
      "419:\tlearn: 0.2085537\ttotal: 4.65s\tremaining: 6.42s\n",
      "420:\tlearn: 0.2079903\ttotal: 4.65s\tremaining: 6.4s\n",
      "421:\tlearn: 0.2076514\ttotal: 4.67s\tremaining: 6.39s\n",
      "422:\tlearn: 0.2068346\ttotal: 4.67s\tremaining: 6.37s\n",
      "423:\tlearn: 0.2064779\ttotal: 4.68s\tremaining: 6.36s\n",
      "424:\tlearn: 0.2060978\ttotal: 4.69s\tremaining: 6.34s\n",
      "425:\tlearn: 0.2057125\ttotal: 4.7s\tremaining: 6.33s\n",
      "426:\tlearn: 0.2049756\ttotal: 4.71s\tremaining: 6.31s\n",
      "427:\tlearn: 0.2042475\ttotal: 4.72s\tremaining: 6.3s\n",
      "428:\tlearn: 0.2034525\ttotal: 4.72s\tremaining: 6.29s\n",
      "429:\tlearn: 0.2027786\ttotal: 4.73s\tremaining: 6.28s\n",
      "430:\tlearn: 0.2022730\ttotal: 4.74s\tremaining: 6.26s\n",
      "431:\tlearn: 0.2017587\ttotal: 4.75s\tremaining: 6.25s\n",
      "432:\tlearn: 0.2012636\ttotal: 4.76s\tremaining: 6.24s\n",
      "433:\tlearn: 0.2005804\ttotal: 4.78s\tremaining: 6.24s\n",
      "434:\tlearn: 0.1999338\ttotal: 4.79s\tremaining: 6.22s\n",
      "435:\tlearn: 0.1996364\ttotal: 4.8s\tremaining: 6.21s\n",
      "436:\tlearn: 0.1991224\ttotal: 4.8s\tremaining: 6.19s\n",
      "437:\tlearn: 0.1984064\ttotal: 4.81s\tremaining: 6.17s\n",
      "438:\tlearn: 0.1978660\ttotal: 4.82s\tremaining: 6.16s\n",
      "439:\tlearn: 0.1972225\ttotal: 4.83s\tremaining: 6.15s\n",
      "440:\tlearn: 0.1967749\ttotal: 4.84s\tremaining: 6.14s\n",
      "441:\tlearn: 0.1961822\ttotal: 4.85s\tremaining: 6.12s\n",
      "442:\tlearn: 0.1958263\ttotal: 4.86s\tremaining: 6.11s\n",
      "443:\tlearn: 0.1954627\ttotal: 4.87s\tremaining: 6.09s\n",
      "444:\tlearn: 0.1950592\ttotal: 4.87s\tremaining: 6.08s\n",
      "445:\tlearn: 0.1947368\ttotal: 4.88s\tremaining: 6.06s\n",
      "446:\tlearn: 0.1941554\ttotal: 4.89s\tremaining: 6.05s\n",
      "447:\tlearn: 0.1936139\ttotal: 4.9s\tremaining: 6.04s\n",
      "448:\tlearn: 0.1930732\ttotal: 4.91s\tremaining: 6.03s\n",
      "449:\tlearn: 0.1925405\ttotal: 4.92s\tremaining: 6.01s\n",
      "450:\tlearn: 0.1920360\ttotal: 4.93s\tremaining: 6s\n",
      "451:\tlearn: 0.1915099\ttotal: 4.94s\tremaining: 5.99s\n",
      "452:\tlearn: 0.1909095\ttotal: 4.95s\tremaining: 5.97s\n",
      "453:\tlearn: 0.1902290\ttotal: 4.96s\tremaining: 5.97s\n",
      "454:\tlearn: 0.1896326\ttotal: 4.98s\tremaining: 5.96s\n",
      "455:\tlearn: 0.1891096\ttotal: 4.99s\tremaining: 5.95s\n",
      "456:\tlearn: 0.1884975\ttotal: 5s\tremaining: 5.94s\n",
      "457:\tlearn: 0.1879548\ttotal: 5.01s\tremaining: 5.92s\n",
      "458:\tlearn: 0.1874092\ttotal: 5.01s\tremaining: 5.91s\n",
      "459:\tlearn: 0.1868614\ttotal: 5.02s\tremaining: 5.9s\n",
      "460:\tlearn: 0.1864688\ttotal: 5.03s\tremaining: 5.88s\n",
      "461:\tlearn: 0.1861071\ttotal: 5.04s\tremaining: 5.87s\n",
      "462:\tlearn: 0.1854964\ttotal: 5.05s\tremaining: 5.86s\n",
      "463:\tlearn: 0.1849679\ttotal: 5.06s\tremaining: 5.84s\n",
      "464:\tlearn: 0.1841613\ttotal: 5.07s\tremaining: 5.83s\n",
      "465:\tlearn: 0.1833752\ttotal: 5.08s\tremaining: 5.82s\n",
      "466:\tlearn: 0.1826983\ttotal: 5.08s\tremaining: 5.8s\n",
      "467:\tlearn: 0.1822144\ttotal: 5.09s\tremaining: 5.79s\n",
      "468:\tlearn: 0.1816042\ttotal: 5.1s\tremaining: 5.78s\n",
      "469:\tlearn: 0.1809293\ttotal: 5.11s\tremaining: 5.76s\n",
      "470:\tlearn: 0.1804462\ttotal: 5.12s\tremaining: 5.75s\n",
      "471:\tlearn: 0.1797572\ttotal: 5.13s\tremaining: 5.74s\n",
      "472:\tlearn: 0.1790928\ttotal: 5.14s\tremaining: 5.72s\n",
      "473:\tlearn: 0.1785279\ttotal: 5.14s\tremaining: 5.71s\n",
      "474:\tlearn: 0.1778320\ttotal: 5.16s\tremaining: 5.7s\n",
      "475:\tlearn: 0.1773171\ttotal: 5.17s\tremaining: 5.7s\n",
      "476:\tlearn: 0.1768260\ttotal: 5.18s\tremaining: 5.68s\n",
      "477:\tlearn: 0.1762276\ttotal: 5.19s\tremaining: 5.67s\n",
      "478:\tlearn: 0.1756020\ttotal: 5.2s\tremaining: 5.66s\n",
      "479:\tlearn: 0.1751340\ttotal: 5.21s\tremaining: 5.64s\n",
      "480:\tlearn: 0.1747298\ttotal: 5.22s\tremaining: 5.63s\n",
      "481:\tlearn: 0.1739411\ttotal: 5.22s\tremaining: 5.62s\n",
      "482:\tlearn: 0.1732668\ttotal: 5.24s\tremaining: 5.6s\n",
      "483:\tlearn: 0.1728152\ttotal: 5.24s\tremaining: 5.59s\n",
      "484:\tlearn: 0.1723659\ttotal: 5.25s\tremaining: 5.58s\n",
      "485:\tlearn: 0.1720112\ttotal: 5.26s\tremaining: 5.56s\n",
      "486:\tlearn: 0.1716388\ttotal: 5.27s\tremaining: 5.55s\n",
      "487:\tlearn: 0.1713138\ttotal: 5.28s\tremaining: 5.54s\n",
      "488:\tlearn: 0.1707746\ttotal: 5.29s\tremaining: 5.53s\n",
      "489:\tlearn: 0.1700830\ttotal: 5.3s\tremaining: 5.51s\n",
      "490:\tlearn: 0.1695041\ttotal: 5.3s\tremaining: 5.5s\n",
      "491:\tlearn: 0.1689109\ttotal: 5.32s\tremaining: 5.49s\n",
      "492:\tlearn: 0.1683348\ttotal: 5.32s\tremaining: 5.47s\n",
      "493:\tlearn: 0.1679340\ttotal: 5.33s\tremaining: 5.46s\n",
      "494:\tlearn: 0.1674263\ttotal: 5.34s\tremaining: 5.45s\n",
      "495:\tlearn: 0.1668973\ttotal: 5.36s\tremaining: 5.44s\n",
      "496:\tlearn: 0.1662966\ttotal: 5.37s\tremaining: 5.44s\n",
      "497:\tlearn: 0.1659386\ttotal: 5.39s\tremaining: 5.43s\n",
      "498:\tlearn: 0.1654120\ttotal: 5.41s\tremaining: 5.43s\n",
      "499:\tlearn: 0.1650539\ttotal: 5.42s\tremaining: 5.42s\n",
      "500:\tlearn: 0.1645060\ttotal: 5.44s\tremaining: 5.42s\n",
      "501:\tlearn: 0.1638788\ttotal: 5.45s\tremaining: 5.41s\n",
      "502:\tlearn: 0.1633154\ttotal: 5.47s\tremaining: 5.4s\n",
      "503:\tlearn: 0.1627928\ttotal: 5.48s\tremaining: 5.39s\n",
      "504:\tlearn: 0.1622298\ttotal: 5.49s\tremaining: 5.38s\n",
      "505:\tlearn: 0.1616407\ttotal: 5.5s\tremaining: 5.37s\n",
      "506:\tlearn: 0.1613461\ttotal: 5.51s\tremaining: 5.36s\n",
      "507:\tlearn: 0.1608490\ttotal: 5.52s\tremaining: 5.34s\n",
      "508:\tlearn: 0.1602976\ttotal: 5.53s\tremaining: 5.33s\n",
      "509:\tlearn: 0.1597619\ttotal: 5.53s\tremaining: 5.32s\n",
      "510:\tlearn: 0.1591736\ttotal: 5.54s\tremaining: 5.3s\n",
      "511:\tlearn: 0.1584570\ttotal: 5.55s\tremaining: 5.29s\n",
      "512:\tlearn: 0.1579309\ttotal: 5.57s\tremaining: 5.29s\n",
      "513:\tlearn: 0.1572252\ttotal: 5.59s\tremaining: 5.28s\n",
      "514:\tlearn: 0.1567003\ttotal: 5.6s\tremaining: 5.27s\n",
      "515:\tlearn: 0.1563312\ttotal: 5.6s\tremaining: 5.26s\n",
      "516:\tlearn: 0.1558619\ttotal: 5.61s\tremaining: 5.24s\n",
      "517:\tlearn: 0.1553182\ttotal: 5.62s\tremaining: 5.23s\n",
      "518:\tlearn: 0.1549865\ttotal: 5.63s\tremaining: 5.22s\n",
      "519:\tlearn: 0.1545720\ttotal: 5.64s\tremaining: 5.2s\n",
      "520:\tlearn: 0.1538637\ttotal: 5.64s\tremaining: 5.19s\n",
      "521:\tlearn: 0.1532672\ttotal: 5.66s\tremaining: 5.18s\n",
      "522:\tlearn: 0.1525255\ttotal: 5.66s\tremaining: 5.17s\n",
      "523:\tlearn: 0.1520198\ttotal: 5.67s\tremaining: 5.15s\n",
      "524:\tlearn: 0.1516887\ttotal: 5.68s\tremaining: 5.14s\n",
      "525:\tlearn: 0.1512666\ttotal: 5.69s\tremaining: 5.13s\n",
      "526:\tlearn: 0.1507349\ttotal: 5.7s\tremaining: 5.11s\n",
      "527:\tlearn: 0.1501217\ttotal: 5.71s\tremaining: 5.1s\n",
      "528:\tlearn: 0.1497789\ttotal: 5.72s\tremaining: 5.09s\n",
      "529:\tlearn: 0.1491004\ttotal: 5.73s\tremaining: 5.08s\n",
      "530:\tlearn: 0.1486092\ttotal: 5.74s\tremaining: 5.07s\n",
      "531:\tlearn: 0.1481581\ttotal: 5.74s\tremaining: 5.05s\n",
      "532:\tlearn: 0.1478528\ttotal: 5.76s\tremaining: 5.04s\n",
      "533:\tlearn: 0.1473088\ttotal: 5.77s\tremaining: 5.04s\n",
      "534:\tlearn: 0.1467844\ttotal: 5.79s\tremaining: 5.03s\n",
      "535:\tlearn: 0.1462840\ttotal: 5.79s\tremaining: 5.02s\n",
      "536:\tlearn: 0.1456993\ttotal: 5.81s\tremaining: 5.01s\n",
      "537:\tlearn: 0.1453409\ttotal: 5.82s\tremaining: 5s\n",
      "538:\tlearn: 0.1447516\ttotal: 5.83s\tremaining: 4.99s\n",
      "539:\tlearn: 0.1441701\ttotal: 5.84s\tremaining: 4.97s\n",
      "540:\tlearn: 0.1436449\ttotal: 5.85s\tremaining: 4.96s\n",
      "541:\tlearn: 0.1432453\ttotal: 5.86s\tremaining: 4.95s\n",
      "542:\tlearn: 0.1425840\ttotal: 5.86s\tremaining: 4.93s\n",
      "543:\tlearn: 0.1421980\ttotal: 5.87s\tremaining: 4.92s\n",
      "544:\tlearn: 0.1416260\ttotal: 5.88s\tremaining: 4.91s\n",
      "545:\tlearn: 0.1411884\ttotal: 5.89s\tremaining: 4.9s\n",
      "546:\tlearn: 0.1406536\ttotal: 5.9s\tremaining: 4.89s\n",
      "547:\tlearn: 0.1401612\ttotal: 5.91s\tremaining: 4.87s\n",
      "548:\tlearn: 0.1398430\ttotal: 5.92s\tremaining: 4.86s\n",
      "549:\tlearn: 0.1393394\ttotal: 5.92s\tremaining: 4.85s\n",
      "550:\tlearn: 0.1390116\ttotal: 5.93s\tremaining: 4.84s\n",
      "551:\tlearn: 0.1385814\ttotal: 5.94s\tremaining: 4.82s\n",
      "552:\tlearn: 0.1379567\ttotal: 5.95s\tremaining: 4.81s\n",
      "553:\tlearn: 0.1374341\ttotal: 5.96s\tremaining: 4.8s\n",
      "554:\tlearn: 0.1367697\ttotal: 5.98s\tremaining: 4.79s\n",
      "555:\tlearn: 0.1363657\ttotal: 5.99s\tremaining: 4.79s\n",
      "556:\tlearn: 0.1357737\ttotal: 6s\tremaining: 4.77s\n",
      "557:\tlearn: 0.1354534\ttotal: 6.01s\tremaining: 4.76s\n",
      "558:\tlearn: 0.1351170\ttotal: 6.02s\tremaining: 4.75s\n",
      "559:\tlearn: 0.1345716\ttotal: 6.03s\tremaining: 4.74s\n",
      "560:\tlearn: 0.1342227\ttotal: 6.04s\tremaining: 4.73s\n",
      "561:\tlearn: 0.1336514\ttotal: 6.05s\tremaining: 4.71s\n",
      "562:\tlearn: 0.1330495\ttotal: 6.06s\tremaining: 4.7s\n",
      "563:\tlearn: 0.1324553\ttotal: 6.07s\tremaining: 4.69s\n",
      "564:\tlearn: 0.1320218\ttotal: 6.08s\tremaining: 4.68s\n",
      "565:\tlearn: 0.1315407\ttotal: 6.09s\tremaining: 4.67s\n",
      "566:\tlearn: 0.1311141\ttotal: 6.09s\tremaining: 4.65s\n",
      "567:\tlearn: 0.1307261\ttotal: 6.1s\tremaining: 4.64s\n",
      "568:\tlearn: 0.1303277\ttotal: 6.11s\tremaining: 4.63s\n",
      "569:\tlearn: 0.1298770\ttotal: 6.12s\tremaining: 4.62s\n",
      "570:\tlearn: 0.1295714\ttotal: 6.13s\tremaining: 4.61s\n",
      "571:\tlearn: 0.1290927\ttotal: 6.14s\tremaining: 4.59s\n",
      "572:\tlearn: 0.1285624\ttotal: 6.15s\tremaining: 4.58s\n",
      "573:\tlearn: 0.1281561\ttotal: 6.15s\tremaining: 4.57s\n",
      "574:\tlearn: 0.1276552\ttotal: 6.17s\tremaining: 4.56s\n",
      "575:\tlearn: 0.1271413\ttotal: 6.18s\tremaining: 4.55s\n",
      "576:\tlearn: 0.1267100\ttotal: 6.2s\tremaining: 4.54s\n",
      "577:\tlearn: 0.1262758\ttotal: 6.2s\tremaining: 4.53s\n",
      "578:\tlearn: 0.1258606\ttotal: 6.21s\tremaining: 4.52s\n",
      "579:\tlearn: 0.1253338\ttotal: 6.22s\tremaining: 4.5s\n",
      "580:\tlearn: 0.1248385\ttotal: 6.23s\tremaining: 4.49s\n",
      "581:\tlearn: 0.1245740\ttotal: 6.24s\tremaining: 4.48s\n",
      "582:\tlearn: 0.1240769\ttotal: 6.25s\tremaining: 4.47s\n",
      "583:\tlearn: 0.1237735\ttotal: 6.25s\tremaining: 4.45s\n",
      "584:\tlearn: 0.1232333\ttotal: 6.26s\tremaining: 4.44s\n",
      "585:\tlearn: 0.1228814\ttotal: 6.27s\tremaining: 4.43s\n",
      "586:\tlearn: 0.1224028\ttotal: 6.29s\tremaining: 4.42s\n",
      "587:\tlearn: 0.1219405\ttotal: 6.3s\tremaining: 4.41s\n",
      "588:\tlearn: 0.1214307\ttotal: 6.31s\tremaining: 4.4s\n",
      "589:\tlearn: 0.1210430\ttotal: 6.32s\tremaining: 4.39s\n",
      "590:\tlearn: 0.1207460\ttotal: 6.34s\tremaining: 4.39s\n",
      "591:\tlearn: 0.1203321\ttotal: 6.35s\tremaining: 4.38s\n",
      "592:\tlearn: 0.1198630\ttotal: 6.36s\tremaining: 4.37s\n",
      "593:\tlearn: 0.1194851\ttotal: 6.38s\tremaining: 4.36s\n",
      "594:\tlearn: 0.1190910\ttotal: 6.39s\tremaining: 4.35s\n",
      "595:\tlearn: 0.1186672\ttotal: 6.4s\tremaining: 4.34s\n",
      "596:\tlearn: 0.1182748\ttotal: 6.42s\tremaining: 4.33s\n",
      "597:\tlearn: 0.1177453\ttotal: 6.43s\tremaining: 4.33s\n",
      "598:\tlearn: 0.1173179\ttotal: 6.45s\tremaining: 4.32s\n",
      "599:\tlearn: 0.1169176\ttotal: 6.48s\tremaining: 4.32s\n",
      "600:\tlearn: 0.1164167\ttotal: 6.5s\tremaining: 4.32s\n",
      "601:\tlearn: 0.1158931\ttotal: 6.52s\tremaining: 4.31s\n",
      "602:\tlearn: 0.1154832\ttotal: 6.53s\tremaining: 4.3s\n",
      "603:\tlearn: 0.1150681\ttotal: 6.54s\tremaining: 4.29s\n",
      "604:\tlearn: 0.1147141\ttotal: 6.55s\tremaining: 4.28s\n",
      "605:\tlearn: 0.1143261\ttotal: 6.57s\tremaining: 4.27s\n",
      "606:\tlearn: 0.1137898\ttotal: 6.58s\tremaining: 4.26s\n",
      "607:\tlearn: 0.1134243\ttotal: 6.59s\tremaining: 4.25s\n",
      "608:\tlearn: 0.1130444\ttotal: 6.61s\tremaining: 4.24s\n",
      "609:\tlearn: 0.1127410\ttotal: 6.63s\tremaining: 4.24s\n",
      "610:\tlearn: 0.1123805\ttotal: 6.63s\tremaining: 4.22s\n",
      "611:\tlearn: 0.1118572\ttotal: 6.65s\tremaining: 4.21s\n",
      "612:\tlearn: 0.1114196\ttotal: 6.66s\tremaining: 4.21s\n",
      "613:\tlearn: 0.1109893\ttotal: 6.67s\tremaining: 4.19s\n",
      "614:\tlearn: 0.1104818\ttotal: 6.68s\tremaining: 4.18s\n",
      "615:\tlearn: 0.1099348\ttotal: 6.69s\tremaining: 4.17s\n",
      "616:\tlearn: 0.1096657\ttotal: 6.7s\tremaining: 4.16s\n",
      "617:\tlearn: 0.1091727\ttotal: 6.71s\tremaining: 4.15s\n",
      "618:\tlearn: 0.1087772\ttotal: 6.72s\tremaining: 4.14s\n",
      "619:\tlearn: 0.1082349\ttotal: 6.73s\tremaining: 4.13s\n",
      "620:\tlearn: 0.1078711\ttotal: 6.75s\tremaining: 4.12s\n",
      "621:\tlearn: 0.1076585\ttotal: 6.76s\tremaining: 4.11s\n",
      "622:\tlearn: 0.1073343\ttotal: 6.77s\tremaining: 4.09s\n",
      "623:\tlearn: 0.1069921\ttotal: 6.78s\tremaining: 4.08s\n",
      "624:\tlearn: 0.1065302\ttotal: 6.79s\tremaining: 4.08s\n",
      "625:\tlearn: 0.1060556\ttotal: 6.81s\tremaining: 4.07s\n",
      "626:\tlearn: 0.1056487\ttotal: 6.82s\tremaining: 4.06s\n",
      "627:\tlearn: 0.1052743\ttotal: 6.83s\tremaining: 4.05s\n",
      "628:\tlearn: 0.1049035\ttotal: 6.84s\tremaining: 4.04s\n",
      "629:\tlearn: 0.1045078\ttotal: 6.86s\tremaining: 4.03s\n",
      "630:\tlearn: 0.1041111\ttotal: 6.87s\tremaining: 4.01s\n",
      "631:\tlearn: 0.1037388\ttotal: 6.88s\tremaining: 4s\n",
      "632:\tlearn: 0.1035524\ttotal: 6.89s\tremaining: 3.99s\n",
      "633:\tlearn: 0.1032950\ttotal: 6.9s\tremaining: 3.98s\n",
      "634:\tlearn: 0.1029379\ttotal: 6.91s\tremaining: 3.97s\n",
      "635:\tlearn: 0.1025463\ttotal: 6.92s\tremaining: 3.96s\n",
      "636:\tlearn: 0.1021642\ttotal: 6.93s\tremaining: 3.95s\n",
      "637:\tlearn: 0.1017366\ttotal: 6.94s\tremaining: 3.94s\n",
      "638:\tlearn: 0.1012833\ttotal: 6.96s\tremaining: 3.93s\n",
      "639:\tlearn: 0.1008520\ttotal: 6.96s\tremaining: 3.92s\n",
      "640:\tlearn: 0.1005570\ttotal: 6.98s\tremaining: 3.91s\n",
      "641:\tlearn: 0.1003002\ttotal: 6.99s\tremaining: 3.9s\n",
      "642:\tlearn: 0.0999837\ttotal: 7.02s\tremaining: 3.9s\n",
      "643:\tlearn: 0.0996596\ttotal: 7.04s\tremaining: 3.89s\n",
      "644:\tlearn: 0.0992299\ttotal: 7.06s\tremaining: 3.89s\n",
      "645:\tlearn: 0.0988099\ttotal: 7.08s\tremaining: 3.88s\n",
      "646:\tlearn: 0.0986142\ttotal: 7.09s\tremaining: 3.87s\n",
      "647:\tlearn: 0.0982805\ttotal: 7.11s\tremaining: 3.86s\n",
      "648:\tlearn: 0.0980847\ttotal: 7.12s\tremaining: 3.85s\n",
      "649:\tlearn: 0.0976287\ttotal: 7.14s\tremaining: 3.84s\n",
      "650:\tlearn: 0.0973289\ttotal: 7.15s\tremaining: 3.83s\n",
      "651:\tlearn: 0.0969921\ttotal: 7.16s\tremaining: 3.82s\n",
      "652:\tlearn: 0.0966761\ttotal: 7.18s\tremaining: 3.81s\n",
      "653:\tlearn: 0.0962148\ttotal: 7.19s\tremaining: 3.81s\n",
      "654:\tlearn: 0.0958214\ttotal: 7.21s\tremaining: 3.8s\n",
      "655:\tlearn: 0.0954799\ttotal: 7.21s\tremaining: 3.78s\n",
      "656:\tlearn: 0.0951619\ttotal: 7.23s\tremaining: 3.77s\n",
      "657:\tlearn: 0.0948786\ttotal: 7.24s\tremaining: 3.76s\n",
      "658:\tlearn: 0.0944712\ttotal: 7.25s\tremaining: 3.75s\n",
      "659:\tlearn: 0.0941386\ttotal: 7.26s\tremaining: 3.74s\n",
      "660:\tlearn: 0.0938663\ttotal: 7.27s\tremaining: 3.73s\n",
      "661:\tlearn: 0.0934443\ttotal: 7.28s\tremaining: 3.72s\n",
      "662:\tlearn: 0.0932915\ttotal: 7.29s\tremaining: 3.71s\n",
      "663:\tlearn: 0.0930749\ttotal: 7.3s\tremaining: 3.69s\n",
      "664:\tlearn: 0.0927229\ttotal: 7.31s\tremaining: 3.68s\n",
      "665:\tlearn: 0.0923936\ttotal: 7.32s\tremaining: 3.67s\n",
      "666:\tlearn: 0.0920019\ttotal: 7.33s\tremaining: 3.66s\n",
      "667:\tlearn: 0.0917433\ttotal: 7.34s\tremaining: 3.65s\n",
      "668:\tlearn: 0.0913590\ttotal: 7.36s\tremaining: 3.64s\n",
      "669:\tlearn: 0.0910938\ttotal: 7.36s\tremaining: 3.63s\n",
      "670:\tlearn: 0.0907122\ttotal: 7.38s\tremaining: 3.62s\n",
      "671:\tlearn: 0.0904757\ttotal: 7.39s\tremaining: 3.61s\n",
      "672:\tlearn: 0.0902586\ttotal: 7.41s\tremaining: 3.6s\n",
      "673:\tlearn: 0.0898864\ttotal: 7.42s\tremaining: 3.59s\n",
      "674:\tlearn: 0.0895845\ttotal: 7.44s\tremaining: 3.58s\n",
      "675:\tlearn: 0.0892714\ttotal: 7.45s\tremaining: 3.57s\n",
      "676:\tlearn: 0.0889899\ttotal: 7.46s\tremaining: 3.56s\n",
      "677:\tlearn: 0.0886879\ttotal: 7.47s\tremaining: 3.55s\n",
      "678:\tlearn: 0.0884994\ttotal: 7.48s\tremaining: 3.53s\n",
      "679:\tlearn: 0.0881106\ttotal: 7.49s\tremaining: 3.52s\n",
      "680:\tlearn: 0.0878327\ttotal: 7.5s\tremaining: 3.51s\n",
      "681:\tlearn: 0.0876476\ttotal: 7.51s\tremaining: 3.5s\n",
      "682:\tlearn: 0.0874835\ttotal: 7.52s\tremaining: 3.49s\n",
      "683:\tlearn: 0.0872183\ttotal: 7.53s\tremaining: 3.48s\n",
      "684:\tlearn: 0.0870798\ttotal: 7.54s\tremaining: 3.47s\n",
      "685:\tlearn: 0.0866848\ttotal: 7.55s\tremaining: 3.46s\n",
      "686:\tlearn: 0.0863602\ttotal: 7.56s\tremaining: 3.44s\n",
      "687:\tlearn: 0.0860974\ttotal: 7.57s\tremaining: 3.43s\n",
      "688:\tlearn: 0.0857971\ttotal: 7.58s\tremaining: 3.42s\n",
      "689:\tlearn: 0.0855575\ttotal: 7.61s\tremaining: 3.42s\n",
      "690:\tlearn: 0.0853586\ttotal: 7.62s\tremaining: 3.41s\n",
      "691:\tlearn: 0.0850831\ttotal: 7.63s\tremaining: 3.39s\n",
      "692:\tlearn: 0.0849088\ttotal: 7.64s\tremaining: 3.38s\n",
      "693:\tlearn: 0.0846367\ttotal: 7.65s\tremaining: 3.37s\n",
      "694:\tlearn: 0.0843730\ttotal: 7.66s\tremaining: 3.36s\n",
      "695:\tlearn: 0.0840816\ttotal: 7.67s\tremaining: 3.35s\n",
      "696:\tlearn: 0.0838323\ttotal: 7.68s\tremaining: 3.34s\n",
      "697:\tlearn: 0.0835491\ttotal: 7.69s\tremaining: 3.33s\n",
      "698:\tlearn: 0.0831940\ttotal: 7.71s\tremaining: 3.32s\n",
      "699:\tlearn: 0.0828234\ttotal: 7.72s\tremaining: 3.31s\n",
      "700:\tlearn: 0.0825076\ttotal: 7.72s\tremaining: 3.29s\n",
      "701:\tlearn: 0.0822243\ttotal: 7.74s\tremaining: 3.28s\n",
      "702:\tlearn: 0.0819445\ttotal: 7.75s\tremaining: 3.27s\n",
      "703:\tlearn: 0.0816756\ttotal: 7.76s\tremaining: 3.26s\n",
      "704:\tlearn: 0.0814110\ttotal: 7.77s\tremaining: 3.25s\n",
      "705:\tlearn: 0.0811785\ttotal: 7.78s\tremaining: 3.24s\n",
      "706:\tlearn: 0.0808306\ttotal: 7.79s\tremaining: 3.23s\n",
      "707:\tlearn: 0.0804493\ttotal: 7.8s\tremaining: 3.22s\n",
      "708:\tlearn: 0.0802375\ttotal: 7.82s\tremaining: 3.21s\n",
      "709:\tlearn: 0.0799694\ttotal: 7.83s\tremaining: 3.2s\n",
      "710:\tlearn: 0.0797169\ttotal: 7.84s\tremaining: 3.19s\n",
      "711:\tlearn: 0.0794849\ttotal: 7.85s\tremaining: 3.17s\n",
      "712:\tlearn: 0.0792213\ttotal: 7.86s\tremaining: 3.16s\n",
      "713:\tlearn: 0.0788347\ttotal: 7.87s\tremaining: 3.15s\n",
      "714:\tlearn: 0.0785929\ttotal: 7.87s\tremaining: 3.14s\n",
      "715:\tlearn: 0.0783474\ttotal: 7.88s\tremaining: 3.13s\n",
      "716:\tlearn: 0.0780187\ttotal: 7.89s\tremaining: 3.11s\n",
      "717:\tlearn: 0.0777357\ttotal: 7.9s\tremaining: 3.1s\n",
      "718:\tlearn: 0.0775073\ttotal: 7.91s\tremaining: 3.09s\n",
      "719:\tlearn: 0.0772302\ttotal: 7.92s\tremaining: 3.08s\n",
      "720:\tlearn: 0.0769279\ttotal: 7.92s\tremaining: 3.07s\n",
      "721:\tlearn: 0.0765954\ttotal: 7.93s\tremaining: 3.05s\n",
      "722:\tlearn: 0.0763670\ttotal: 7.94s\tremaining: 3.04s\n",
      "723:\tlearn: 0.0761480\ttotal: 7.95s\tremaining: 3.03s\n",
      "724:\tlearn: 0.0758803\ttotal: 7.96s\tremaining: 3.02s\n",
      "725:\tlearn: 0.0756101\ttotal: 7.97s\tremaining: 3.01s\n",
      "726:\tlearn: 0.0753462\ttotal: 7.98s\tremaining: 3s\n",
      "727:\tlearn: 0.0751194\ttotal: 7.99s\tremaining: 2.99s\n",
      "728:\tlearn: 0.0747468\ttotal: 8.01s\tremaining: 2.98s\n",
      "729:\tlearn: 0.0745216\ttotal: 8.02s\tremaining: 2.96s\n",
      "730:\tlearn: 0.0742806\ttotal: 8.03s\tremaining: 2.95s\n",
      "731:\tlearn: 0.0740357\ttotal: 8.04s\tremaining: 2.94s\n",
      "732:\tlearn: 0.0738159\ttotal: 8.05s\tremaining: 2.93s\n",
      "733:\tlearn: 0.0735805\ttotal: 8.06s\tremaining: 2.92s\n",
      "734:\tlearn: 0.0733431\ttotal: 8.06s\tremaining: 2.91s\n",
      "735:\tlearn: 0.0731159\ttotal: 8.07s\tremaining: 2.9s\n",
      "736:\tlearn: 0.0728361\ttotal: 8.08s\tremaining: 2.88s\n",
      "737:\tlearn: 0.0725781\ttotal: 8.09s\tremaining: 2.87s\n",
      "738:\tlearn: 0.0723280\ttotal: 8.1s\tremaining: 2.86s\n",
      "739:\tlearn: 0.0721014\ttotal: 8.11s\tremaining: 2.85s\n",
      "740:\tlearn: 0.0719047\ttotal: 8.12s\tremaining: 2.84s\n",
      "741:\tlearn: 0.0717004\ttotal: 8.13s\tremaining: 2.83s\n",
      "742:\tlearn: 0.0714967\ttotal: 8.13s\tremaining: 2.81s\n",
      "743:\tlearn: 0.0712161\ttotal: 8.14s\tremaining: 2.8s\n",
      "744:\tlearn: 0.0709794\ttotal: 8.15s\tremaining: 2.79s\n",
      "745:\tlearn: 0.0707609\ttotal: 8.16s\tremaining: 2.78s\n",
      "746:\tlearn: 0.0705230\ttotal: 8.17s\tremaining: 2.77s\n",
      "747:\tlearn: 0.0703383\ttotal: 8.18s\tremaining: 2.75s\n",
      "748:\tlearn: 0.0701503\ttotal: 8.19s\tremaining: 2.74s\n",
      "749:\tlearn: 0.0699571\ttotal: 8.2s\tremaining: 2.73s\n",
      "750:\tlearn: 0.0697565\ttotal: 8.22s\tremaining: 2.72s\n",
      "751:\tlearn: 0.0695671\ttotal: 8.23s\tremaining: 2.71s\n",
      "752:\tlearn: 0.0693604\ttotal: 8.24s\tremaining: 2.7s\n",
      "753:\tlearn: 0.0691184\ttotal: 8.24s\tremaining: 2.69s\n",
      "754:\tlearn: 0.0689370\ttotal: 8.26s\tremaining: 2.68s\n",
      "755:\tlearn: 0.0687460\ttotal: 8.27s\tremaining: 2.67s\n",
      "756:\tlearn: 0.0685382\ttotal: 8.27s\tremaining: 2.65s\n",
      "757:\tlearn: 0.0683015\ttotal: 8.28s\tremaining: 2.64s\n",
      "758:\tlearn: 0.0680354\ttotal: 8.29s\tremaining: 2.63s\n",
      "759:\tlearn: 0.0678547\ttotal: 8.3s\tremaining: 2.62s\n",
      "760:\tlearn: 0.0676410\ttotal: 8.31s\tremaining: 2.61s\n",
      "761:\tlearn: 0.0674300\ttotal: 8.32s\tremaining: 2.6s\n",
      "762:\tlearn: 0.0672578\ttotal: 8.32s\tremaining: 2.59s\n",
      "763:\tlearn: 0.0669705\ttotal: 8.34s\tremaining: 2.57s\n",
      "764:\tlearn: 0.0668022\ttotal: 8.34s\tremaining: 2.56s\n",
      "765:\tlearn: 0.0665686\ttotal: 8.35s\tremaining: 2.55s\n",
      "766:\tlearn: 0.0663392\ttotal: 8.36s\tremaining: 2.54s\n",
      "767:\tlearn: 0.0661679\ttotal: 8.37s\tremaining: 2.53s\n",
      "768:\tlearn: 0.0659680\ttotal: 8.38s\tremaining: 2.52s\n",
      "769:\tlearn: 0.0657428\ttotal: 8.39s\tremaining: 2.51s\n",
      "770:\tlearn: 0.0654657\ttotal: 8.4s\tremaining: 2.5s\n",
      "771:\tlearn: 0.0652981\ttotal: 8.42s\tremaining: 2.49s\n",
      "772:\tlearn: 0.0651289\ttotal: 8.43s\tremaining: 2.48s\n",
      "773:\tlearn: 0.0649596\ttotal: 8.44s\tremaining: 2.46s\n",
      "774:\tlearn: 0.0647962\ttotal: 8.45s\tremaining: 2.45s\n",
      "775:\tlearn: 0.0645663\ttotal: 8.46s\tremaining: 2.44s\n",
      "776:\tlearn: 0.0643438\ttotal: 8.47s\tremaining: 2.43s\n",
      "777:\tlearn: 0.0641380\ttotal: 8.48s\tremaining: 2.42s\n",
      "778:\tlearn: 0.0639282\ttotal: 8.49s\tremaining: 2.41s\n",
      "779:\tlearn: 0.0637070\ttotal: 8.5s\tremaining: 2.4s\n",
      "780:\tlearn: 0.0634969\ttotal: 8.51s\tremaining: 2.38s\n",
      "781:\tlearn: 0.0633129\ttotal: 8.52s\tremaining: 2.37s\n",
      "782:\tlearn: 0.0630463\ttotal: 8.52s\tremaining: 2.36s\n",
      "783:\tlearn: 0.0628204\ttotal: 8.53s\tremaining: 2.35s\n",
      "784:\tlearn: 0.0626106\ttotal: 8.54s\tremaining: 2.34s\n",
      "785:\tlearn: 0.0624344\ttotal: 8.55s\tremaining: 2.33s\n",
      "786:\tlearn: 0.0622201\ttotal: 8.56s\tremaining: 2.32s\n",
      "787:\tlearn: 0.0620285\ttotal: 8.57s\tremaining: 2.31s\n",
      "788:\tlearn: 0.0618615\ttotal: 8.58s\tremaining: 2.29s\n",
      "789:\tlearn: 0.0617126\ttotal: 8.59s\tremaining: 2.28s\n",
      "790:\tlearn: 0.0615019\ttotal: 8.6s\tremaining: 2.27s\n",
      "791:\tlearn: 0.0612432\ttotal: 8.62s\tremaining: 2.26s\n",
      "792:\tlearn: 0.0610945\ttotal: 8.63s\tremaining: 2.25s\n",
      "793:\tlearn: 0.0608408\ttotal: 8.64s\tremaining: 2.24s\n",
      "794:\tlearn: 0.0606346\ttotal: 8.64s\tremaining: 2.23s\n",
      "795:\tlearn: 0.0604720\ttotal: 8.65s\tremaining: 2.22s\n",
      "796:\tlearn: 0.0603253\ttotal: 8.66s\tremaining: 2.21s\n",
      "797:\tlearn: 0.0600954\ttotal: 8.67s\tremaining: 2.19s\n",
      "798:\tlearn: 0.0598821\ttotal: 8.68s\tremaining: 2.18s\n",
      "799:\tlearn: 0.0596984\ttotal: 8.69s\tremaining: 2.17s\n",
      "800:\tlearn: 0.0595531\ttotal: 8.7s\tremaining: 2.16s\n",
      "801:\tlearn: 0.0593633\ttotal: 8.71s\tremaining: 2.15s\n",
      "802:\tlearn: 0.0591643\ttotal: 8.71s\tremaining: 2.14s\n",
      "803:\tlearn: 0.0590068\ttotal: 8.72s\tremaining: 2.13s\n",
      "804:\tlearn: 0.0588392\ttotal: 8.73s\tremaining: 2.12s\n",
      "805:\tlearn: 0.0586912\ttotal: 8.74s\tremaining: 2.1s\n",
      "806:\tlearn: 0.0585019\ttotal: 8.75s\tremaining: 2.09s\n",
      "807:\tlearn: 0.0583316\ttotal: 8.76s\tremaining: 2.08s\n",
      "808:\tlearn: 0.0581506\ttotal: 8.77s\tremaining: 2.07s\n",
      "809:\tlearn: 0.0579596\ttotal: 8.78s\tremaining: 2.06s\n",
      "810:\tlearn: 0.0577748\ttotal: 8.79s\tremaining: 2.05s\n",
      "811:\tlearn: 0.0575928\ttotal: 8.8s\tremaining: 2.04s\n",
      "812:\tlearn: 0.0574537\ttotal: 8.82s\tremaining: 2.03s\n",
      "813:\tlearn: 0.0573050\ttotal: 8.83s\tremaining: 2.02s\n",
      "814:\tlearn: 0.0571560\ttotal: 8.84s\tremaining: 2s\n",
      "815:\tlearn: 0.0570214\ttotal: 8.85s\tremaining: 1.99s\n",
      "816:\tlearn: 0.0568667\ttotal: 8.85s\tremaining: 1.98s\n",
      "817:\tlearn: 0.0567089\ttotal: 8.86s\tremaining: 1.97s\n",
      "818:\tlearn: 0.0565617\ttotal: 8.87s\tremaining: 1.96s\n",
      "819:\tlearn: 0.0563789\ttotal: 8.88s\tremaining: 1.95s\n",
      "820:\tlearn: 0.0561905\ttotal: 8.89s\tremaining: 1.94s\n",
      "821:\tlearn: 0.0560009\ttotal: 8.9s\tremaining: 1.93s\n",
      "822:\tlearn: 0.0558401\ttotal: 8.91s\tremaining: 1.92s\n",
      "823:\tlearn: 0.0556638\ttotal: 8.92s\tremaining: 1.9s\n",
      "824:\tlearn: 0.0554654\ttotal: 8.93s\tremaining: 1.89s\n",
      "825:\tlearn: 0.0552582\ttotal: 8.93s\tremaining: 1.88s\n",
      "826:\tlearn: 0.0550769\ttotal: 8.94s\tremaining: 1.87s\n",
      "827:\tlearn: 0.0549045\ttotal: 8.95s\tremaining: 1.86s\n",
      "828:\tlearn: 0.0547392\ttotal: 8.96s\tremaining: 1.85s\n",
      "829:\tlearn: 0.0545998\ttotal: 8.97s\tremaining: 1.84s\n",
      "830:\tlearn: 0.0544209\ttotal: 8.98s\tremaining: 1.82s\n",
      "831:\tlearn: 0.0542446\ttotal: 8.98s\tremaining: 1.81s\n",
      "832:\tlearn: 0.0540134\ttotal: 9s\tremaining: 1.8s\n",
      "833:\tlearn: 0.0538409\ttotal: 9.01s\tremaining: 1.79s\n",
      "834:\tlearn: 0.0536621\ttotal: 9.03s\tremaining: 1.78s\n",
      "835:\tlearn: 0.0534991\ttotal: 9.04s\tremaining: 1.77s\n",
      "836:\tlearn: 0.0533100\ttotal: 9.04s\tremaining: 1.76s\n",
      "837:\tlearn: 0.0531567\ttotal: 9.05s\tremaining: 1.75s\n",
      "838:\tlearn: 0.0529889\ttotal: 9.06s\tremaining: 1.74s\n",
      "839:\tlearn: 0.0528240\ttotal: 9.07s\tremaining: 1.73s\n",
      "840:\tlearn: 0.0526610\ttotal: 9.08s\tremaining: 1.72s\n",
      "841:\tlearn: 0.0525214\ttotal: 9.09s\tremaining: 1.71s\n",
      "842:\tlearn: 0.0523690\ttotal: 9.1s\tremaining: 1.7s\n",
      "843:\tlearn: 0.0521994\ttotal: 9.11s\tremaining: 1.68s\n",
      "844:\tlearn: 0.0519783\ttotal: 9.12s\tremaining: 1.67s\n",
      "845:\tlearn: 0.0518103\ttotal: 9.13s\tremaining: 1.66s\n",
      "846:\tlearn: 0.0516839\ttotal: 9.14s\tremaining: 1.65s\n",
      "847:\tlearn: 0.0515209\ttotal: 9.14s\tremaining: 1.64s\n",
      "848:\tlearn: 0.0513750\ttotal: 9.16s\tremaining: 1.63s\n",
      "849:\tlearn: 0.0512115\ttotal: 9.17s\tremaining: 1.62s\n",
      "850:\tlearn: 0.0509959\ttotal: 9.18s\tremaining: 1.61s\n",
      "851:\tlearn: 0.0508405\ttotal: 9.19s\tremaining: 1.59s\n",
      "852:\tlearn: 0.0506798\ttotal: 9.19s\tremaining: 1.58s\n",
      "853:\tlearn: 0.0505133\ttotal: 9.21s\tremaining: 1.57s\n",
      "854:\tlearn: 0.0503191\ttotal: 9.22s\tremaining: 1.56s\n",
      "855:\tlearn: 0.0501438\ttotal: 9.24s\tremaining: 1.55s\n",
      "856:\tlearn: 0.0499908\ttotal: 9.25s\tremaining: 1.54s\n",
      "857:\tlearn: 0.0498728\ttotal: 9.26s\tremaining: 1.53s\n",
      "858:\tlearn: 0.0497540\ttotal: 9.27s\tremaining: 1.52s\n",
      "859:\tlearn: 0.0495473\ttotal: 9.28s\tremaining: 1.51s\n",
      "860:\tlearn: 0.0493852\ttotal: 9.28s\tremaining: 1.5s\n",
      "861:\tlearn: 0.0492297\ttotal: 9.29s\tremaining: 1.49s\n",
      "862:\tlearn: 0.0490740\ttotal: 9.3s\tremaining: 1.48s\n",
      "863:\tlearn: 0.0489439\ttotal: 9.31s\tremaining: 1.47s\n",
      "864:\tlearn: 0.0488036\ttotal: 9.32s\tremaining: 1.45s\n",
      "865:\tlearn: 0.0486533\ttotal: 9.33s\tremaining: 1.44s\n",
      "866:\tlearn: 0.0485046\ttotal: 9.34s\tremaining: 1.43s\n",
      "867:\tlearn: 0.0483674\ttotal: 9.35s\tremaining: 1.42s\n",
      "868:\tlearn: 0.0482212\ttotal: 9.35s\tremaining: 1.41s\n",
      "869:\tlearn: 0.0480347\ttotal: 9.36s\tremaining: 1.4s\n",
      "870:\tlearn: 0.0478730\ttotal: 9.37s\tremaining: 1.39s\n",
      "871:\tlearn: 0.0477057\ttotal: 9.38s\tremaining: 1.38s\n",
      "872:\tlearn: 0.0475331\ttotal: 9.39s\tremaining: 1.36s\n",
      "873:\tlearn: 0.0474210\ttotal: 9.4s\tremaining: 1.35s\n",
      "874:\tlearn: 0.0472256\ttotal: 9.41s\tremaining: 1.34s\n",
      "875:\tlearn: 0.0470927\ttotal: 9.43s\tremaining: 1.33s\n",
      "876:\tlearn: 0.0469003\ttotal: 9.44s\tremaining: 1.32s\n",
      "877:\tlearn: 0.0467696\ttotal: 9.45s\tremaining: 1.31s\n",
      "878:\tlearn: 0.0466226\ttotal: 9.46s\tremaining: 1.3s\n",
      "879:\tlearn: 0.0464389\ttotal: 9.47s\tremaining: 1.29s\n",
      "880:\tlearn: 0.0463296\ttotal: 9.48s\tremaining: 1.28s\n",
      "881:\tlearn: 0.0462007\ttotal: 9.49s\tremaining: 1.27s\n",
      "882:\tlearn: 0.0460930\ttotal: 9.5s\tremaining: 1.26s\n",
      "883:\tlearn: 0.0459832\ttotal: 9.51s\tremaining: 1.25s\n",
      "884:\tlearn: 0.0458578\ttotal: 9.52s\tremaining: 1.24s\n",
      "885:\tlearn: 0.0456796\ttotal: 9.53s\tremaining: 1.23s\n",
      "886:\tlearn: 0.0454938\ttotal: 9.53s\tremaining: 1.21s\n",
      "887:\tlearn: 0.0453564\ttotal: 9.54s\tremaining: 1.2s\n",
      "888:\tlearn: 0.0452431\ttotal: 9.55s\tremaining: 1.19s\n",
      "889:\tlearn: 0.0451203\ttotal: 9.56s\tremaining: 1.18s\n",
      "890:\tlearn: 0.0449382\ttotal: 9.57s\tremaining: 1.17s\n",
      "891:\tlearn: 0.0447847\ttotal: 9.58s\tremaining: 1.16s\n",
      "892:\tlearn: 0.0446783\ttotal: 9.59s\tremaining: 1.15s\n",
      "893:\tlearn: 0.0445681\ttotal: 9.6s\tremaining: 1.14s\n",
      "894:\tlearn: 0.0444173\ttotal: 9.6s\tremaining: 1.13s\n",
      "895:\tlearn: 0.0442995\ttotal: 9.62s\tremaining: 1.12s\n",
      "896:\tlearn: 0.0441938\ttotal: 9.63s\tremaining: 1.1s\n",
      "897:\tlearn: 0.0440526\ttotal: 9.68s\tremaining: 1.1s\n",
      "898:\tlearn: 0.0439348\ttotal: 9.71s\tremaining: 1.09s\n",
      "899:\tlearn: 0.0438194\ttotal: 9.73s\tremaining: 1.08s\n",
      "900:\tlearn: 0.0437067\ttotal: 9.75s\tremaining: 1.07s\n",
      "901:\tlearn: 0.0435936\ttotal: 9.76s\tremaining: 1.06s\n",
      "902:\tlearn: 0.0434549\ttotal: 9.76s\tremaining: 1.05s\n",
      "903:\tlearn: 0.0433447\ttotal: 9.77s\tremaining: 1.04s\n",
      "904:\tlearn: 0.0432291\ttotal: 9.78s\tremaining: 1.03s\n",
      "905:\tlearn: 0.0431185\ttotal: 9.79s\tremaining: 1.01s\n",
      "906:\tlearn: 0.0430046\ttotal: 9.8s\tremaining: 1s\n",
      "907:\tlearn: 0.0429077\ttotal: 9.81s\tremaining: 994ms\n",
      "908:\tlearn: 0.0427722\ttotal: 9.82s\tremaining: 983ms\n",
      "909:\tlearn: 0.0426648\ttotal: 9.83s\tremaining: 972ms\n",
      "910:\tlearn: 0.0425608\ttotal: 9.85s\tremaining: 962ms\n",
      "911:\tlearn: 0.0424550\ttotal: 9.86s\tremaining: 952ms\n",
      "912:\tlearn: 0.0423569\ttotal: 9.87s\tremaining: 941ms\n",
      "913:\tlearn: 0.0422466\ttotal: 9.88s\tremaining: 930ms\n",
      "914:\tlearn: 0.0421414\ttotal: 9.89s\tremaining: 919ms\n",
      "915:\tlearn: 0.0420442\ttotal: 9.89s\tremaining: 907ms\n",
      "916:\tlearn: 0.0419354\ttotal: 9.9s\tremaining: 897ms\n",
      "917:\tlearn: 0.0418303\ttotal: 9.91s\tremaining: 885ms\n",
      "918:\tlearn: 0.0417274\ttotal: 9.92s\tremaining: 875ms\n",
      "919:\tlearn: 0.0416187\ttotal: 9.93s\tremaining: 864ms\n",
      "920:\tlearn: 0.0415279\ttotal: 9.94s\tremaining: 853ms\n",
      "921:\tlearn: 0.0414071\ttotal: 9.95s\tremaining: 842ms\n",
      "922:\tlearn: 0.0413010\ttotal: 9.96s\tremaining: 831ms\n",
      "923:\tlearn: 0.0411951\ttotal: 9.97s\tremaining: 820ms\n",
      "924:\tlearn: 0.0410763\ttotal: 9.98s\tremaining: 809ms\n",
      "925:\tlearn: 0.0409475\ttotal: 9.99s\tremaining: 798ms\n",
      "926:\tlearn: 0.0408346\ttotal: 9.99s\tremaining: 787ms\n",
      "927:\tlearn: 0.0407382\ttotal: 10s\tremaining: 776ms\n",
      "928:\tlearn: 0.0406220\ttotal: 10s\tremaining: 765ms\n",
      "929:\tlearn: 0.0405336\ttotal: 10s\tremaining: 755ms\n",
      "930:\tlearn: 0.0404083\ttotal: 10s\tremaining: 744ms\n",
      "931:\tlearn: 0.0403159\ttotal: 10.1s\tremaining: 734ms\n",
      "932:\tlearn: 0.0402210\ttotal: 10.1s\tremaining: 723ms\n",
      "933:\tlearn: 0.0401017\ttotal: 10.1s\tremaining: 712ms\n",
      "934:\tlearn: 0.0399787\ttotal: 10.1s\tremaining: 701ms\n",
      "935:\tlearn: 0.0398572\ttotal: 10.1s\tremaining: 690ms\n",
      "936:\tlearn: 0.0397446\ttotal: 10.1s\tremaining: 679ms\n",
      "937:\tlearn: 0.0396545\ttotal: 10.1s\tremaining: 668ms\n",
      "938:\tlearn: 0.0395076\ttotal: 10.1s\tremaining: 657ms\n",
      "939:\tlearn: 0.0393813\ttotal: 10.1s\tremaining: 646ms\n",
      "940:\tlearn: 0.0392737\ttotal: 10.1s\tremaining: 636ms\n",
      "941:\tlearn: 0.0391339\ttotal: 10.1s\tremaining: 625ms\n",
      "942:\tlearn: 0.0390210\ttotal: 10.2s\tremaining: 614ms\n",
      "943:\tlearn: 0.0389033\ttotal: 10.2s\tremaining: 603ms\n",
      "944:\tlearn: 0.0387798\ttotal: 10.2s\tremaining: 592ms\n",
      "945:\tlearn: 0.0386238\ttotal: 10.2s\tremaining: 581ms\n",
      "946:\tlearn: 0.0385332\ttotal: 10.2s\tremaining: 570ms\n",
      "947:\tlearn: 0.0384197\ttotal: 10.2s\tremaining: 560ms\n",
      "948:\tlearn: 0.0383230\ttotal: 10.2s\tremaining: 549ms\n",
      "949:\tlearn: 0.0382031\ttotal: 10.2s\tremaining: 538ms\n",
      "950:\tlearn: 0.0381142\ttotal: 10.2s\tremaining: 527ms\n",
      "951:\tlearn: 0.0380173\ttotal: 10.2s\tremaining: 516ms\n",
      "952:\tlearn: 0.0378976\ttotal: 10.3s\tremaining: 506ms\n",
      "953:\tlearn: 0.0378023\ttotal: 10.3s\tremaining: 495ms\n",
      "954:\tlearn: 0.0377138\ttotal: 10.3s\tremaining: 484ms\n",
      "955:\tlearn: 0.0375690\ttotal: 10.3s\tremaining: 474ms\n",
      "956:\tlearn: 0.0374820\ttotal: 10.3s\tremaining: 463ms\n",
      "957:\tlearn: 0.0373956\ttotal: 10.3s\tremaining: 452ms\n",
      "958:\tlearn: 0.0372832\ttotal: 10.3s\tremaining: 441ms\n",
      "959:\tlearn: 0.0371673\ttotal: 10.3s\tremaining: 430ms\n",
      "960:\tlearn: 0.0370818\ttotal: 10.3s\tremaining: 419ms\n",
      "961:\tlearn: 0.0369675\ttotal: 10.3s\tremaining: 409ms\n",
      "962:\tlearn: 0.0368541\ttotal: 10.4s\tremaining: 398ms\n",
      "963:\tlearn: 0.0367745\ttotal: 10.4s\tremaining: 387ms\n",
      "964:\tlearn: 0.0366228\ttotal: 10.4s\tremaining: 376ms\n",
      "965:\tlearn: 0.0365311\ttotal: 10.4s\tremaining: 365ms\n",
      "966:\tlearn: 0.0364402\ttotal: 10.4s\tremaining: 355ms\n",
      "967:\tlearn: 0.0363489\ttotal: 10.4s\tremaining: 344ms\n",
      "968:\tlearn: 0.0362113\ttotal: 10.4s\tremaining: 333ms\n",
      "969:\tlearn: 0.0361288\ttotal: 10.4s\tremaining: 322ms\n",
      "970:\tlearn: 0.0360218\ttotal: 10.4s\tremaining: 311ms\n",
      "971:\tlearn: 0.0359393\ttotal: 10.4s\tremaining: 301ms\n",
      "972:\tlearn: 0.0358270\ttotal: 10.4s\tremaining: 290ms\n",
      "973:\tlearn: 0.0357382\ttotal: 10.5s\tremaining: 279ms\n",
      "974:\tlearn: 0.0356290\ttotal: 10.5s\tremaining: 269ms\n",
      "975:\tlearn: 0.0355468\ttotal: 10.5s\tremaining: 258ms\n",
      "976:\tlearn: 0.0354664\ttotal: 10.5s\tremaining: 247ms\n",
      "977:\tlearn: 0.0353623\ttotal: 10.5s\tremaining: 236ms\n",
      "978:\tlearn: 0.0352657\ttotal: 10.5s\tremaining: 226ms\n",
      "979:\tlearn: 0.0351481\ttotal: 10.5s\tremaining: 215ms\n",
      "980:\tlearn: 0.0350403\ttotal: 10.5s\tremaining: 204ms\n",
      "981:\tlearn: 0.0349386\ttotal: 10.5s\tremaining: 193ms\n",
      "982:\tlearn: 0.0347937\ttotal: 10.6s\tremaining: 182ms\n",
      "983:\tlearn: 0.0347081\ttotal: 10.6s\tremaining: 172ms\n",
      "984:\tlearn: 0.0346025\ttotal: 10.6s\tremaining: 161ms\n",
      "985:\tlearn: 0.0345227\ttotal: 10.6s\tremaining: 150ms\n",
      "986:\tlearn: 0.0343955\ttotal: 10.6s\tremaining: 139ms\n",
      "987:\tlearn: 0.0342849\ttotal: 10.6s\tremaining: 129ms\n",
      "988:\tlearn: 0.0341808\ttotal: 10.6s\tremaining: 118ms\n",
      "989:\tlearn: 0.0340820\ttotal: 10.6s\tremaining: 107ms\n",
      "990:\tlearn: 0.0339731\ttotal: 10.6s\tremaining: 96.5ms\n",
      "991:\tlearn: 0.0338711\ttotal: 10.6s\tremaining: 85.7ms\n",
      "992:\tlearn: 0.0337887\ttotal: 10.6s\tremaining: 75ms\n",
      "993:\tlearn: 0.0337106\ttotal: 10.7s\tremaining: 64.3ms\n",
      "994:\tlearn: 0.0335875\ttotal: 10.7s\tremaining: 53.6ms\n",
      "995:\tlearn: 0.0334806\ttotal: 10.7s\tremaining: 42.9ms\n",
      "996:\tlearn: 0.0333793\ttotal: 10.7s\tremaining: 32.2ms\n",
      "997:\tlearn: 0.0332798\ttotal: 10.7s\tremaining: 21.5ms\n",
      "998:\tlearn: 0.0331714\ttotal: 10.8s\tremaining: 10.8ms\n",
      "999:\tlearn: 0.0330765\ttotal: 10.8s\tremaining: 0us\n"
     ]
    },
    {
     "data": {
      "text/plain": [
       "<catboost.core.CatBoostRegressor at 0x7f5584de3940>"
      ]
     },
     "execution_count": 586,
     "metadata": {},
     "output_type": "execute_result"
    }
   ],
   "source": [
    "m.fit(X_train,y_train)"
   ]
  },
  {
   "cell_type": "code",
   "execution_count": 587,
   "metadata": {},
   "outputs": [
    {
     "data": {
      "text/plain": [
       "array([3.18487069, 2.76007215, 0.96963462, 1.27664384, 0.1789577 ,\n",
       "       0.33693246, 0.90331371, 1.38547107, 2.15514457, 1.78137131,\n",
       "       1.99436724, 0.81754519, 0.78288172, 0.29145948, 1.84762774,\n",
       "       1.98002715, 0.78655268, 0.45546429])"
      ]
     },
     "execution_count": 587,
     "metadata": {},
     "output_type": "execute_result"
    }
   ],
   "source": [
    "m.predict(X_test)"
   ]
  },
  {
   "cell_type": "code",
   "execution_count": 588,
   "metadata": {},
   "outputs": [
    {
     "data": {
      "text/plain": [
       "0.2999309801529801"
      ]
     },
     "execution_count": 588,
     "metadata": {},
     "output_type": "execute_result"
    }
   ],
   "source": [
    "mae(y_test,m.predict(X_test))"
   ]
  },
  {
   "cell_type": "code",
   "execution_count": 589,
   "metadata": {},
   "outputs": [
    {
     "data": {
      "text/plain": [
       "0.027398943708478143"
      ]
     },
     "execution_count": 589,
     "metadata": {},
     "output_type": "execute_result"
    }
   ],
   "source": [
    "mae(y_train,m.predict(X_train))"
   ]
  },
  {
   "cell_type": "code",
   "execution_count": null,
   "metadata": {},
   "outputs": [],
   "source": []
  }
 ],
 "metadata": {
  "kernelspec": {
   "display_name": "Python 3.8.10 64-bit",
   "language": "python",
   "name": "python3"
  },
  "language_info": {
   "codemirror_mode": {
    "name": "ipython",
    "version": 3
   },
   "file_extension": ".py",
   "mimetype": "text/x-python",
   "name": "python",
   "nbconvert_exporter": "python",
   "pygments_lexer": "ipython3",
   "version": "3.8.10"
  },
  "orig_nbformat": 4,
  "vscode": {
   "interpreter": {
    "hash": "916dbcbb3f70747c44a77c7bcd40155683ae19c65e1c03b4aa3499c5328201f1"
   }
  }
 },
 "nbformat": 4,
 "nbformat_minor": 2
}
